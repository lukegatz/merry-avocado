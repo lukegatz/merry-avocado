{
  "nbformat": 4,
  "nbformat_minor": 0,
  "metadata": {
    "colab": {
      "name": "Avocado.ipynb",
      "provenance": [],
      "collapsed_sections": []
    },
    "kernelspec": {
      "name": "python3",
      "display_name": "Python 3"
    },
    "language_info": {
      "name": "python"
    }
  },
  "cells": [
    {
      "cell_type": "markdown",
      "metadata": {
        "id": "1_drbAQxNzIJ"
      },
      "source": [
        "# **Projeto Avocado**\n",
        "### **(análise de dados com Python e Pandas)**"
      ]
    },
    {
      "cell_type": "markdown",
      "metadata": {
        "id": "wlP8NI3CNDmE"
      },
      "source": [
        "\n",
        "\n",
        "\n",
        "---\n",
        "\n",
        "\n",
        "\n",
        "### **Extração e tratamento dos dados**\n"
      ]
    },
    {
      "cell_type": "code",
      "metadata": {
        "id": "0x_t-LJTNwMY"
      },
      "source": [
        "# bibliotecas importadas\n",
        "import pandas as pd\n",
        "import matplotlib.pyplot as plt\n",
        "plt.style.use('ggplot')\n",
        "# Formatação dos números\n",
        "pd.options.display.float_format = '{:20,.2f}'.format"
      ],
      "execution_count": 1,
      "outputs": []
    },
    {
      "cell_type": "code",
      "metadata": {
        "id": "GGWSMD4wOOQQ"
      },
      "source": [
        "# dataset que iremos utilizar (foi preciso realizar a conversão na data)\n",
        "df = pd.read_csv('/content/drive/MyDrive/Colab Notebooks/datasets/avocado.csv', \\\n",
        "                 parse_dates=['Date'], date_parser=lambda col: \\\n",
        "                 pd.to_datetime(col, yearfirst=True, errors='coerce'))"
      ],
      "execution_count": 2,
      "outputs": []
    },
    {
      "cell_type": "code",
      "metadata": {
        "colab": {
          "base_uri": "https://localhost:8080/"
        },
        "id": "ktaQ-5vZmf2q",
        "outputId": "a254769d-a3bc-44ae-f05b-467c4834382c"
      },
      "source": [
        "df.columns"
      ],
      "execution_count": 3,
      "outputs": [
        {
          "output_type": "execute_result",
          "data": {
            "text/plain": [
              "Index(['Unnamed: 0', 'Date', 'AveragePrice', 'Total Volume', '4046', '4225',\n",
              "       '4770', 'Total Bags', 'Small Bags', 'Large Bags', 'XLarge Bags', 'type',\n",
              "       'year', 'region'],\n",
              "      dtype='object')"
            ]
          },
          "metadata": {},
          "execution_count": 3
        }
      ]
    },
    {
      "cell_type": "code",
      "metadata": {
        "id": "xLMyelHz6wHI"
      },
      "source": [
        "'''\n",
        "Aplicamos a conversão ao formato de data, voltando a coluna data \n",
        "para tipo String\n",
        "'''\n",
        "df['Date'] = df.Date.dt.strftime('%d/%m/%Y')"
      ],
      "execution_count": 4,
      "outputs": []
    },
    {
      "cell_type": "code",
      "metadata": {
        "colab": {
          "base_uri": "https://localhost:8080/",
          "height": 241
        },
        "id": "7JICXhRJOqQd",
        "outputId": "509af255-66d1-45c2-8da9-f7891496ed8e"
      },
      "source": [
        "df.head(5)"
      ],
      "execution_count": 5,
      "outputs": [
        {
          "output_type": "execute_result",
          "data": {
            "text/html": [
              "<div>\n",
              "<style scoped>\n",
              "    .dataframe tbody tr th:only-of-type {\n",
              "        vertical-align: middle;\n",
              "    }\n",
              "\n",
              "    .dataframe tbody tr th {\n",
              "        vertical-align: top;\n",
              "    }\n",
              "\n",
              "    .dataframe thead th {\n",
              "        text-align: right;\n",
              "    }\n",
              "</style>\n",
              "<table border=\"1\" class=\"dataframe\">\n",
              "  <thead>\n",
              "    <tr style=\"text-align: right;\">\n",
              "      <th></th>\n",
              "      <th>Unnamed: 0</th>\n",
              "      <th>Date</th>\n",
              "      <th>AveragePrice</th>\n",
              "      <th>Total Volume</th>\n",
              "      <th>4046</th>\n",
              "      <th>4225</th>\n",
              "      <th>4770</th>\n",
              "      <th>Total Bags</th>\n",
              "      <th>Small Bags</th>\n",
              "      <th>Large Bags</th>\n",
              "      <th>XLarge Bags</th>\n",
              "      <th>type</th>\n",
              "      <th>year</th>\n",
              "      <th>region</th>\n",
              "    </tr>\n",
              "  </thead>\n",
              "  <tbody>\n",
              "    <tr>\n",
              "      <th>0</th>\n",
              "      <td>0</td>\n",
              "      <td>27/12/2015</td>\n",
              "      <td>1.33</td>\n",
              "      <td>64,236.62</td>\n",
              "      <td>1,036.74</td>\n",
              "      <td>54,454.85</td>\n",
              "      <td>48.16</td>\n",
              "      <td>8,696.87</td>\n",
              "      <td>8,603.62</td>\n",
              "      <td>93.25</td>\n",
              "      <td>0.00</td>\n",
              "      <td>conventional</td>\n",
              "      <td>2015</td>\n",
              "      <td>Albany</td>\n",
              "    </tr>\n",
              "    <tr>\n",
              "      <th>1</th>\n",
              "      <td>1</td>\n",
              "      <td>20/12/2015</td>\n",
              "      <td>1.35</td>\n",
              "      <td>54,876.98</td>\n",
              "      <td>674.28</td>\n",
              "      <td>44,638.81</td>\n",
              "      <td>58.33</td>\n",
              "      <td>9,505.56</td>\n",
              "      <td>9,408.07</td>\n",
              "      <td>97.49</td>\n",
              "      <td>0.00</td>\n",
              "      <td>conventional</td>\n",
              "      <td>2015</td>\n",
              "      <td>Albany</td>\n",
              "    </tr>\n",
              "    <tr>\n",
              "      <th>2</th>\n",
              "      <td>2</td>\n",
              "      <td>13/12/2015</td>\n",
              "      <td>0.93</td>\n",
              "      <td>118,220.22</td>\n",
              "      <td>794.70</td>\n",
              "      <td>109,149.67</td>\n",
              "      <td>130.50</td>\n",
              "      <td>8,145.35</td>\n",
              "      <td>8,042.21</td>\n",
              "      <td>103.14</td>\n",
              "      <td>0.00</td>\n",
              "      <td>conventional</td>\n",
              "      <td>2015</td>\n",
              "      <td>Albany</td>\n",
              "    </tr>\n",
              "    <tr>\n",
              "      <th>3</th>\n",
              "      <td>3</td>\n",
              "      <td>06/12/2015</td>\n",
              "      <td>1.08</td>\n",
              "      <td>78,992.15</td>\n",
              "      <td>1,132.00</td>\n",
              "      <td>71,976.41</td>\n",
              "      <td>72.58</td>\n",
              "      <td>5,811.16</td>\n",
              "      <td>5,677.40</td>\n",
              "      <td>133.76</td>\n",
              "      <td>0.00</td>\n",
              "      <td>conventional</td>\n",
              "      <td>2015</td>\n",
              "      <td>Albany</td>\n",
              "    </tr>\n",
              "    <tr>\n",
              "      <th>4</th>\n",
              "      <td>4</td>\n",
              "      <td>29/11/2015</td>\n",
              "      <td>1.28</td>\n",
              "      <td>51,039.60</td>\n",
              "      <td>941.48</td>\n",
              "      <td>43,838.39</td>\n",
              "      <td>75.78</td>\n",
              "      <td>6,183.95</td>\n",
              "      <td>5,986.26</td>\n",
              "      <td>197.69</td>\n",
              "      <td>0.00</td>\n",
              "      <td>conventional</td>\n",
              "      <td>2015</td>\n",
              "      <td>Albany</td>\n",
              "    </tr>\n",
              "  </tbody>\n",
              "</table>\n",
              "</div>"
            ],
            "text/plain": [
              "   Unnamed: 0        Date         AveragePrice  ...          type  year  region\n",
              "0           0  27/12/2015                 1.33  ...  conventional  2015  Albany\n",
              "1           1  20/12/2015                 1.35  ...  conventional  2015  Albany\n",
              "2           2  13/12/2015                 0.93  ...  conventional  2015  Albany\n",
              "3           3  06/12/2015                 1.08  ...  conventional  2015  Albany\n",
              "4           4  29/11/2015                 1.28  ...  conventional  2015  Albany\n",
              "\n",
              "[5 rows x 14 columns]"
            ]
          },
          "metadata": {},
          "execution_count": 5
        }
      ]
    },
    {
      "cell_type": "code",
      "metadata": {
        "id": "KXPWz9apOwhx"
      },
      "source": [
        "'''\n",
        "Como será preciso novamente aplicar conversão à data (para que tenhamos um campo \n",
        "de data para trabalhar), criamos uma coluna de data em formato BR str (só para \n",
        "fins acadêmicos)\n",
        "''' \n",
        "df['Data padrão BR'] = df['Date']\n",
        "df['Date'] = pd.to_datetime(df['Date'], dayfirst=True, errors='coerce', \\\n",
        "                            format='%d/%m/%Y')"
      ],
      "execution_count": 6,
      "outputs": []
    },
    {
      "cell_type": "code",
      "metadata": {
        "colab": {
          "base_uri": "https://localhost:8080/"
        },
        "id": "RmC6OlXcLWFe",
        "outputId": "bb65b73b-7b80-4d14-95fd-5c3d213e2afb"
      },
      "source": [
        "df.dtypes"
      ],
      "execution_count": 7,
      "outputs": [
        {
          "output_type": "execute_result",
          "data": {
            "text/plain": [
              "Unnamed: 0                 int64\n",
              "Date              datetime64[ns]\n",
              "AveragePrice             float64\n",
              "Total Volume             float64\n",
              "4046                     float64\n",
              "4225                     float64\n",
              "4770                     float64\n",
              "Total Bags               float64\n",
              "Small Bags               float64\n",
              "Large Bags               float64\n",
              "XLarge Bags              float64\n",
              "type                      object\n",
              "year                       int64\n",
              "region                    object\n",
              "Data padrão BR            object\n",
              "dtype: object"
            ]
          },
          "metadata": {},
          "execution_count": 7
        }
      ]
    },
    {
      "cell_type": "code",
      "metadata": {
        "id": "iwR1TR5_QdZu"
      },
      "source": [
        "''' \n",
        "Os valores para gramas nos nomes das colunas são aproximados (em onças \n",
        "no original)\n",
        "'''\n",
        "df = df.rename(columns={\"Date\": \"Data\", \"AveragePrice\": \"Preço médio\", \\\n",
        "         \"Total Volume\": \"Volume\", \"4046\": \"até 150 g\", \"4225\": \"até 300 g\", \\\n",
        "         \"4770\": \"até 425 g\", \"Total Bags\": \"Total de sacolas\", \\\n",
        "         \"Small Bags\": \"Sacolas pequenas\", \"Large Bags\": \"Sacolas grandes\", \\\n",
        "         \"XLarge Bags\": \"Sacolas extragrandes\", \"type\": \"Tipo\", \\\n",
        "         \"year\": \"Ano\", \"region\": \"Cidade\"})"
      ],
      "execution_count": 8,
      "outputs": []
    },
    {
      "cell_type": "code",
      "metadata": {
        "id": "KhALgIxHZ2o9",
        "colab": {
          "base_uri": "https://localhost:8080/",
          "height": 343
        },
        "outputId": "e0fe0865-d854-4d32-c110-54f74f465dc3"
      },
      "source": [
        "df.head(5)"
      ],
      "execution_count": 9,
      "outputs": [
        {
          "output_type": "execute_result",
          "data": {
            "text/html": [
              "<div>\n",
              "<style scoped>\n",
              "    .dataframe tbody tr th:only-of-type {\n",
              "        vertical-align: middle;\n",
              "    }\n",
              "\n",
              "    .dataframe tbody tr th {\n",
              "        vertical-align: top;\n",
              "    }\n",
              "\n",
              "    .dataframe thead th {\n",
              "        text-align: right;\n",
              "    }\n",
              "</style>\n",
              "<table border=\"1\" class=\"dataframe\">\n",
              "  <thead>\n",
              "    <tr style=\"text-align: right;\">\n",
              "      <th></th>\n",
              "      <th>Unnamed: 0</th>\n",
              "      <th>Data</th>\n",
              "      <th>Preço médio</th>\n",
              "      <th>Volume</th>\n",
              "      <th>até 150 g</th>\n",
              "      <th>até 300 g</th>\n",
              "      <th>até 425 g</th>\n",
              "      <th>Total de sacolas</th>\n",
              "      <th>Sacolas pequenas</th>\n",
              "      <th>Sacolas grandes</th>\n",
              "      <th>Sacolas extragrandes</th>\n",
              "      <th>Tipo</th>\n",
              "      <th>Ano</th>\n",
              "      <th>Cidade</th>\n",
              "      <th>Data padrão BR</th>\n",
              "    </tr>\n",
              "  </thead>\n",
              "  <tbody>\n",
              "    <tr>\n",
              "      <th>0</th>\n",
              "      <td>0</td>\n",
              "      <td>2015-12-27</td>\n",
              "      <td>1.33</td>\n",
              "      <td>64,236.62</td>\n",
              "      <td>1,036.74</td>\n",
              "      <td>54,454.85</td>\n",
              "      <td>48.16</td>\n",
              "      <td>8,696.87</td>\n",
              "      <td>8,603.62</td>\n",
              "      <td>93.25</td>\n",
              "      <td>0.00</td>\n",
              "      <td>conventional</td>\n",
              "      <td>2015</td>\n",
              "      <td>Albany</td>\n",
              "      <td>27/12/2015</td>\n",
              "    </tr>\n",
              "    <tr>\n",
              "      <th>1</th>\n",
              "      <td>1</td>\n",
              "      <td>2015-12-20</td>\n",
              "      <td>1.35</td>\n",
              "      <td>54,876.98</td>\n",
              "      <td>674.28</td>\n",
              "      <td>44,638.81</td>\n",
              "      <td>58.33</td>\n",
              "      <td>9,505.56</td>\n",
              "      <td>9,408.07</td>\n",
              "      <td>97.49</td>\n",
              "      <td>0.00</td>\n",
              "      <td>conventional</td>\n",
              "      <td>2015</td>\n",
              "      <td>Albany</td>\n",
              "      <td>20/12/2015</td>\n",
              "    </tr>\n",
              "    <tr>\n",
              "      <th>2</th>\n",
              "      <td>2</td>\n",
              "      <td>2015-12-13</td>\n",
              "      <td>0.93</td>\n",
              "      <td>118,220.22</td>\n",
              "      <td>794.70</td>\n",
              "      <td>109,149.67</td>\n",
              "      <td>130.50</td>\n",
              "      <td>8,145.35</td>\n",
              "      <td>8,042.21</td>\n",
              "      <td>103.14</td>\n",
              "      <td>0.00</td>\n",
              "      <td>conventional</td>\n",
              "      <td>2015</td>\n",
              "      <td>Albany</td>\n",
              "      <td>13/12/2015</td>\n",
              "    </tr>\n",
              "    <tr>\n",
              "      <th>3</th>\n",
              "      <td>3</td>\n",
              "      <td>2015-12-06</td>\n",
              "      <td>1.08</td>\n",
              "      <td>78,992.15</td>\n",
              "      <td>1,132.00</td>\n",
              "      <td>71,976.41</td>\n",
              "      <td>72.58</td>\n",
              "      <td>5,811.16</td>\n",
              "      <td>5,677.40</td>\n",
              "      <td>133.76</td>\n",
              "      <td>0.00</td>\n",
              "      <td>conventional</td>\n",
              "      <td>2015</td>\n",
              "      <td>Albany</td>\n",
              "      <td>06/12/2015</td>\n",
              "    </tr>\n",
              "    <tr>\n",
              "      <th>4</th>\n",
              "      <td>4</td>\n",
              "      <td>2015-11-29</td>\n",
              "      <td>1.28</td>\n",
              "      <td>51,039.60</td>\n",
              "      <td>941.48</td>\n",
              "      <td>43,838.39</td>\n",
              "      <td>75.78</td>\n",
              "      <td>6,183.95</td>\n",
              "      <td>5,986.26</td>\n",
              "      <td>197.69</td>\n",
              "      <td>0.00</td>\n",
              "      <td>conventional</td>\n",
              "      <td>2015</td>\n",
              "      <td>Albany</td>\n",
              "      <td>29/11/2015</td>\n",
              "    </tr>\n",
              "  </tbody>\n",
              "</table>\n",
              "</div>"
            ],
            "text/plain": [
              "   Unnamed: 0       Data          Preço médio  ...   Ano  Cidade  Data padrão BR\n",
              "0           0 2015-12-27                 1.33  ...  2015  Albany      27/12/2015\n",
              "1           1 2015-12-20                 1.35  ...  2015  Albany      20/12/2015\n",
              "2           2 2015-12-13                 0.93  ...  2015  Albany      13/12/2015\n",
              "3           3 2015-12-06                 1.08  ...  2015  Albany      06/12/2015\n",
              "4           4 2015-11-29                 1.28  ...  2015  Albany      29/11/2015\n",
              "\n",
              "[5 rows x 15 columns]"
            ]
          },
          "metadata": {},
          "execution_count": 9
        }
      ]
    },
    {
      "cell_type": "code",
      "metadata": {
        "colab": {
          "base_uri": "https://localhost:8080/"
        },
        "id": "S9cHb1nNNkdB",
        "outputId": "f60a7ee3-79e4-42f8-a7f5-ba0756a5581a"
      },
      "source": [
        "# Há uma coluna de falso index, que pode ser apagada ...\n",
        "df.columns"
      ],
      "execution_count": 10,
      "outputs": [
        {
          "output_type": "execute_result",
          "data": {
            "text/plain": [
              "Index(['Unnamed: 0', 'Data', 'Preço médio', 'Volume', 'até 150 g', 'até 300 g',\n",
              "       'até 425 g', 'Total de sacolas', 'Sacolas pequenas', 'Sacolas grandes',\n",
              "       'Sacolas extragrandes', 'Tipo', 'Ano', 'Cidade', 'Data padrão BR'],\n",
              "      dtype='object')"
            ]
          },
          "metadata": {},
          "execution_count": 10
        }
      ]
    },
    {
      "cell_type": "code",
      "metadata": {
        "id": "u4MD7RddSI6Q"
      },
      "source": [
        "df.drop(columns='Unnamed: 0', axis=1, inplace=True)"
      ],
      "execution_count": 11,
      "outputs": []
    },
    {
      "cell_type": "code",
      "metadata": {
        "colab": {
          "base_uri": "https://localhost:8080/",
          "height": 334
        },
        "id": "_uNLs-pLkuEh",
        "outputId": "968d9f95-9bda-4735-fe77-87e29ea41478"
      },
      "source": [
        "'''\n",
        "Excluímos do dataframe os dados totalizadores de regiões, deixando apenas \n",
        "os relativos às cidades. Os dados de regiões foram colocados em outro dataframe \n",
        "separado.\n",
        "Na maior parte do tempo, utilizaremos apenas o dataframe com cidades, fazendo \n",
        "uso dos dados de regiões conforme a necessidade.\n",
        "'''\n",
        "# Apenas regiões\n",
        "df_regioes = df.loc[df['Cidade'].isin(['GrandRapids', 'GreatLakes',\\\n",
        "                'Midsouth', 'Northeast', 'NorthernNewEngland', 'Plains', \\\n",
        "                'SouthCentral', 'Southeast', 'TotalUS', 'West'])]\n",
        "\n",
        "# Apenas cidades\n",
        "df = df.loc[~df['Cidade'].isin(['GrandRapids', 'GreatLakes',\\\n",
        "                'Midsouth', 'Northeast', 'NorthernNewEngland', 'Plains', \\\n",
        "                'SouthCentral', 'Southeast', 'TotalUS', 'West'])]\n",
        "\n",
        "# Descrição do dataframe\n",
        "df.describe()"
      ],
      "execution_count": 12,
      "outputs": [
        {
          "output_type": "execute_result",
          "data": {
            "text/html": [
              "<div>\n",
              "<style scoped>\n",
              "    .dataframe tbody tr th:only-of-type {\n",
              "        vertical-align: middle;\n",
              "    }\n",
              "\n",
              "    .dataframe tbody tr th {\n",
              "        vertical-align: top;\n",
              "    }\n",
              "\n",
              "    .dataframe thead th {\n",
              "        text-align: right;\n",
              "    }\n",
              "</style>\n",
              "<table border=\"1\" class=\"dataframe\">\n",
              "  <thead>\n",
              "    <tr style=\"text-align: right;\">\n",
              "      <th></th>\n",
              "      <th>Preço médio</th>\n",
              "      <th>Volume</th>\n",
              "      <th>até 150 g</th>\n",
              "      <th>até 300 g</th>\n",
              "      <th>até 425 g</th>\n",
              "      <th>Total de sacolas</th>\n",
              "      <th>Sacolas pequenas</th>\n",
              "      <th>Sacolas grandes</th>\n",
              "      <th>Sacolas extragrandes</th>\n",
              "      <th>Ano</th>\n",
              "    </tr>\n",
              "  </thead>\n",
              "  <tbody>\n",
              "    <tr>\n",
              "      <th>count</th>\n",
              "      <td>14,869.00</td>\n",
              "      <td>14,869.00</td>\n",
              "      <td>14,869.00</td>\n",
              "      <td>14,869.00</td>\n",
              "      <td>14,869.00</td>\n",
              "      <td>14,869.00</td>\n",
              "      <td>14,869.00</td>\n",
              "      <td>14,869.00</td>\n",
              "      <td>14,869.00</td>\n",
              "      <td>14,869.00</td>\n",
              "    </tr>\n",
              "    <tr>\n",
              "      <th>mean</th>\n",
              "      <td>1.41</td>\n",
              "      <td>317,516.93</td>\n",
              "      <td>109,826.40</td>\n",
              "      <td>110,087.65</td>\n",
              "      <td>8,855.32</td>\n",
              "      <td>88,747.21</td>\n",
              "      <td>70,484.60</td>\n",
              "      <td>17,045.19</td>\n",
              "      <td>1,217.42</td>\n",
              "      <td>2,016.15</td>\n",
              "    </tr>\n",
              "    <tr>\n",
              "      <th>std</th>\n",
              "      <td>0.42</td>\n",
              "      <td>754,823.07</td>\n",
              "      <td>318,535.77</td>\n",
              "      <td>267,621.97</td>\n",
              "      <td>28,797.77</td>\n",
              "      <td>213,503.05</td>\n",
              "      <td>193,166.24</td>\n",
              "      <td>43,921.51</td>\n",
              "      <td>5,644.01</td>\n",
              "      <td>0.94</td>\n",
              "    </tr>\n",
              "    <tr>\n",
              "      <th>min</th>\n",
              "      <td>0.44</td>\n",
              "      <td>84.56</td>\n",
              "      <td>0.00</td>\n",
              "      <td>0.00</td>\n",
              "      <td>0.00</td>\n",
              "      <td>0.00</td>\n",
              "      <td>0.00</td>\n",
              "      <td>0.00</td>\n",
              "      <td>0.00</td>\n",
              "      <td>2,015.00</td>\n",
              "    </tr>\n",
              "    <tr>\n",
              "      <th>25%</th>\n",
              "      <td>1.10</td>\n",
              "      <td>8,904.41</td>\n",
              "      <td>628.74</td>\n",
              "      <td>2,425.50</td>\n",
              "      <td>0.00</td>\n",
              "      <td>3,638.88</td>\n",
              "      <td>1,869.28</td>\n",
              "      <td>69.31</td>\n",
              "      <td>0.00</td>\n",
              "      <td>2,015.00</td>\n",
              "    </tr>\n",
              "    <tr>\n",
              "      <th>50%</th>\n",
              "      <td>1.37</td>\n",
              "      <td>72,161.05</td>\n",
              "      <td>6,068.58</td>\n",
              "      <td>19,637.03</td>\n",
              "      <td>103.60</td>\n",
              "      <td>25,568.09</td>\n",
              "      <td>17,525.31</td>\n",
              "      <td>1,690.21</td>\n",
              "      <td>0.00</td>\n",
              "      <td>2,016.00</td>\n",
              "    </tr>\n",
              "    <tr>\n",
              "      <th>75%</th>\n",
              "      <td>1.67</td>\n",
              "      <td>329,845.26</td>\n",
              "      <td>85,185.29</td>\n",
              "      <td>97,078.18</td>\n",
              "      <td>3,519.45</td>\n",
              "      <td>86,843.58</td>\n",
              "      <td>67,685.81</td>\n",
              "      <td>12,487.18</td>\n",
              "      <td>43.06</td>\n",
              "      <td>2,017.00</td>\n",
              "    </tr>\n",
              "    <tr>\n",
              "      <th>max</th>\n",
              "      <td>3.25</td>\n",
              "      <td>11,213,596.29</td>\n",
              "      <td>4,794,142.14</td>\n",
              "      <td>4,097,591.67</td>\n",
              "      <td>424,389.60</td>\n",
              "      <td>3,462,625.70</td>\n",
              "      <td>3,403,581.49</td>\n",
              "      <td>706,052.84</td>\n",
              "      <td>86,800.09</td>\n",
              "      <td>2,018.00</td>\n",
              "    </tr>\n",
              "  </tbody>\n",
              "</table>\n",
              "</div>"
            ],
            "text/plain": [
              "               Preço médio  ...                  Ano\n",
              "count            14,869.00  ...            14,869.00\n",
              "mean                  1.41  ...             2,016.15\n",
              "std                   0.42  ...                 0.94\n",
              "min                   0.44  ...             2,015.00\n",
              "25%                   1.10  ...             2,015.00\n",
              "50%                   1.37  ...             2,016.00\n",
              "75%                   1.67  ...             2,017.00\n",
              "max                   3.25  ...             2,018.00\n",
              "\n",
              "[8 rows x 10 columns]"
            ]
          },
          "metadata": {},
          "execution_count": 12
        }
      ]
    },
    {
      "cell_type": "code",
      "metadata": {
        "colab": {
          "base_uri": "https://localhost:8080/",
          "height": 334
        },
        "id": "DDg02UB5ShKB",
        "outputId": "93e52826-d4cf-49ac-efb8-1dc11e3c887f"
      },
      "source": [
        "# Descrição do dataframe de regiões\n",
        "df_regioes.describe()"
      ],
      "execution_count": 13,
      "outputs": [
        {
          "output_type": "execute_result",
          "data": {
            "text/html": [
              "<div>\n",
              "<style scoped>\n",
              "    .dataframe tbody tr th:only-of-type {\n",
              "        vertical-align: middle;\n",
              "    }\n",
              "\n",
              "    .dataframe tbody tr th {\n",
              "        vertical-align: top;\n",
              "    }\n",
              "\n",
              "    .dataframe thead th {\n",
              "        text-align: right;\n",
              "    }\n",
              "</style>\n",
              "<table border=\"1\" class=\"dataframe\">\n",
              "  <thead>\n",
              "    <tr style=\"text-align: right;\">\n",
              "      <th></th>\n",
              "      <th>Preço médio</th>\n",
              "      <th>Volume</th>\n",
              "      <th>até 150 g</th>\n",
              "      <th>até 300 g</th>\n",
              "      <th>até 425 g</th>\n",
              "      <th>Total de sacolas</th>\n",
              "      <th>Sacolas pequenas</th>\n",
              "      <th>Sacolas grandes</th>\n",
              "      <th>Sacolas extragrandes</th>\n",
              "      <th>Ano</th>\n",
              "    </tr>\n",
              "  </thead>\n",
              "  <tbody>\n",
              "    <tr>\n",
              "      <th>count</th>\n",
              "      <td>3,380.00</td>\n",
              "      <td>3,380.00</td>\n",
              "      <td>3,380.00</td>\n",
              "      <td>3,380.00</td>\n",
              "      <td>3,380.00</td>\n",
              "      <td>3,380.00</td>\n",
              "      <td>3,380.00</td>\n",
              "      <td>3,380.00</td>\n",
              "      <td>3,380.00</td>\n",
              "      <td>3,380.00</td>\n",
              "    </tr>\n",
              "    <tr>\n",
              "      <th>mean</th>\n",
              "      <td>1.39</td>\n",
              "      <td>3,195,929.98</td>\n",
              "      <td>1,098,846.73</td>\n",
              "      <td>1,109,284.76</td>\n",
              "      <td>84,358.74</td>\n",
              "      <td>903,430.03</td>\n",
              "      <td>673,619.90</td>\n",
              "      <td>218,393.75</td>\n",
              "      <td>11,416.38</td>\n",
              "      <td>2,016.15</td>\n",
              "    </tr>\n",
              "    <tr>\n",
              "      <th>std</th>\n",
              "      <td>0.34</td>\n",
              "      <td>7,426,365.72</td>\n",
              "      <td>2,719,934.62</td>\n",
              "      <td>2,588,673.86</td>\n",
              "      <td>232,532.77</td>\n",
              "      <td>2,123,989.39</td>\n",
              "      <td>1,595,678.36</td>\n",
              "      <td>529,054.79</td>\n",
              "      <td>38,283.09</td>\n",
              "      <td>0.94</td>\n",
              "    </tr>\n",
              "    <tr>\n",
              "      <th>min</th>\n",
              "      <td>0.62</td>\n",
              "      <td>683.76</td>\n",
              "      <td>0.00</td>\n",
              "      <td>35.82</td>\n",
              "      <td>0.00</td>\n",
              "      <td>3.33</td>\n",
              "      <td>3.33</td>\n",
              "      <td>0.00</td>\n",
              "      <td>0.00</td>\n",
              "      <td>2,015.00</td>\n",
              "    </tr>\n",
              "    <tr>\n",
              "      <th>25%</th>\n",
              "      <td>1.10</td>\n",
              "      <td>81,287.36</td>\n",
              "      <td>3,820.86</td>\n",
              "      <td>21,232.45</td>\n",
              "      <td>86.36</td>\n",
              "      <td>38,280.42</td>\n",
              "      <td>22,542.33</td>\n",
              "      <td>3,582.54</td>\n",
              "      <td>0.00</td>\n",
              "      <td>2,015.00</td>\n",
              "    </tr>\n",
              "    <tr>\n",
              "      <th>50%</th>\n",
              "      <td>1.38</td>\n",
              "      <td>310,548.85</td>\n",
              "      <td>36,801.07</td>\n",
              "      <td>206,590.46</td>\n",
              "      <td>3,912.18</td>\n",
              "      <td>119,851.71</td>\n",
              "      <td>92,281.89</td>\n",
              "      <td>32,277.25</td>\n",
              "      <td>0.00</td>\n",
              "      <td>2,016.00</td>\n",
              "    </tr>\n",
              "    <tr>\n",
              "      <th>75%</th>\n",
              "      <td>1.64</td>\n",
              "      <td>3,327,573.89</td>\n",
              "      <td>724,190.58</td>\n",
              "      <td>1,153,683.50</td>\n",
              "      <td>31,341.66</td>\n",
              "      <td>875,958.04</td>\n",
              "      <td>678,032.35</td>\n",
              "      <td>153,818.94</td>\n",
              "      <td>3,801.11</td>\n",
              "      <td>2,017.00</td>\n",
              "    </tr>\n",
              "    <tr>\n",
              "      <th>max</th>\n",
              "      <td>2.73</td>\n",
              "      <td>62,505,646.52</td>\n",
              "      <td>22,743,616.17</td>\n",
              "      <td>20,470,572.61</td>\n",
              "      <td>2,546,439.11</td>\n",
              "      <td>19,373,134.37</td>\n",
              "      <td>13,384,586.80</td>\n",
              "      <td>5,719,096.61</td>\n",
              "      <td>551,693.65</td>\n",
              "      <td>2,018.00</td>\n",
              "    </tr>\n",
              "  </tbody>\n",
              "</table>\n",
              "</div>"
            ],
            "text/plain": [
              "               Preço médio  ...                  Ano\n",
              "count             3,380.00  ...             3,380.00\n",
              "mean                  1.39  ...             2,016.15\n",
              "std                   0.34  ...                 0.94\n",
              "min                   0.62  ...             2,015.00\n",
              "25%                   1.10  ...             2,015.00\n",
              "50%                   1.38  ...             2,016.00\n",
              "75%                   1.64  ...             2,017.00\n",
              "max                   2.73  ...             2,018.00\n",
              "\n",
              "[8 rows x 10 columns]"
            ]
          },
          "metadata": {},
          "execution_count": 13
        }
      ]
    },
    {
      "cell_type": "code",
      "metadata": {
        "colab": {
          "base_uri": "https://localhost:8080/"
        },
        "id": "iasQkwjOVAEl",
        "outputId": "726f760a-a4d0-4924-baa4-651e354e94d1"
      },
      "source": [
        "# Verificação de valores nulos ( não existem valores nulos no dataframe )\n",
        "df.isnull().sum()"
      ],
      "execution_count": 14,
      "outputs": [
        {
          "output_type": "execute_result",
          "data": {
            "text/plain": [
              "Data                    0\n",
              "Preço médio             0\n",
              "Volume                  0\n",
              "até 150 g               0\n",
              "até 300 g               0\n",
              "até 425 g               0\n",
              "Total de sacolas        0\n",
              "Sacolas pequenas        0\n",
              "Sacolas grandes         0\n",
              "Sacolas extragrandes    0\n",
              "Tipo                    0\n",
              "Ano                     0\n",
              "Cidade                  0\n",
              "Data padrão BR          0\n",
              "dtype: int64"
            ]
          },
          "metadata": {},
          "execution_count": 14
        }
      ]
    },
    {
      "cell_type": "markdown",
      "metadata": {
        "id": "63bOzSASSW2K"
      },
      "source": [
        "### **Criação de novas colunas, extraindo informação com groupby**"
      ]
    },
    {
      "cell_type": "code",
      "metadata": {
        "id": "C5n8lNfRXIXt"
      },
      "source": [
        "''' A coluna de receita é calculada por meio da qtd. de \n",
        "abacates vendidos X preço médio\n",
        "'''\n",
        "df['Receita'] = (df['Volume'].mul(df['Preço médio']))\n",
        "\n",
        "# Criamos tb. a coluna de Receita no dataframe de regiões\n",
        "df_regioes['Receita'] = (df_regioes['Volume'].mul(df_regioes['Preço médio']))"
      ],
      "execution_count": 15,
      "outputs": []
    },
    {
      "cell_type": "code",
      "metadata": {
        "id": "WwiC6VMjdzPL"
      },
      "source": [
        "'''\n",
        "Poderíamos criar colunas de porcentagens de tipo do \n",
        "abacate vendido (em relação ao volume total)\n",
        "'''\n",
        "df['Porcentagem 150 g'] = (df['até 150 g'] / df['Volume']) * 100\n",
        "df['Porcentagem 300 g'] = (df['até 300 g'] / df['Volume']) * 100\n",
        "df['Porcentagem 425 g'] = (df['até 425 g'] / df['Volume']) * 100"
      ],
      "execution_count": 16,
      "outputs": []
    },
    {
      "cell_type": "code",
      "metadata": {
        "colab": {
          "base_uri": "https://localhost:8080/",
          "height": 343
        },
        "id": "ugmSOD4-XjOp",
        "outputId": "c1cb357f-b3ad-432c-acdc-62764d2f6e08"
      },
      "source": [
        "df.sample(5)"
      ],
      "execution_count": 17,
      "outputs": [
        {
          "output_type": "execute_result",
          "data": {
            "text/html": [
              "<div>\n",
              "<style scoped>\n",
              "    .dataframe tbody tr th:only-of-type {\n",
              "        vertical-align: middle;\n",
              "    }\n",
              "\n",
              "    .dataframe tbody tr th {\n",
              "        vertical-align: top;\n",
              "    }\n",
              "\n",
              "    .dataframe thead th {\n",
              "        text-align: right;\n",
              "    }\n",
              "</style>\n",
              "<table border=\"1\" class=\"dataframe\">\n",
              "  <thead>\n",
              "    <tr style=\"text-align: right;\">\n",
              "      <th></th>\n",
              "      <th>Data</th>\n",
              "      <th>Preço médio</th>\n",
              "      <th>Volume</th>\n",
              "      <th>até 150 g</th>\n",
              "      <th>até 300 g</th>\n",
              "      <th>até 425 g</th>\n",
              "      <th>Total de sacolas</th>\n",
              "      <th>Sacolas pequenas</th>\n",
              "      <th>Sacolas grandes</th>\n",
              "      <th>Sacolas extragrandes</th>\n",
              "      <th>Tipo</th>\n",
              "      <th>Ano</th>\n",
              "      <th>Cidade</th>\n",
              "      <th>Data padrão BR</th>\n",
              "      <th>Receita</th>\n",
              "      <th>Porcentagem 150 g</th>\n",
              "      <th>Porcentagem 300 g</th>\n",
              "      <th>Porcentagem 425 g</th>\n",
              "    </tr>\n",
              "  </thead>\n",
              "  <tbody>\n",
              "    <tr>\n",
              "      <th>2914</th>\n",
              "      <td>2016-12-11</td>\n",
              "      <td>1.35</td>\n",
              "      <td>599,161.08</td>\n",
              "      <td>49,240.17</td>\n",
              "      <td>375,437.86</td>\n",
              "      <td>9,977.23</td>\n",
              "      <td>164,505.82</td>\n",
              "      <td>153,476.96</td>\n",
              "      <td>11,028.86</td>\n",
              "      <td>0.00</td>\n",
              "      <td>conventional</td>\n",
              "      <td>2016</td>\n",
              "      <td>BaltimoreWashington</td>\n",
              "      <td>11/12/2016</td>\n",
              "      <td>808,867.46</td>\n",
              "      <td>8.22</td>\n",
              "      <td>62.66</td>\n",
              "      <td>1.67</td>\n",
              "    </tr>\n",
              "    <tr>\n",
              "      <th>6876</th>\n",
              "      <td>2017-03-19</td>\n",
              "      <td>1.29</td>\n",
              "      <td>74,388.06</td>\n",
              "      <td>1,883.85</td>\n",
              "      <td>44,133.45</td>\n",
              "      <td>213.08</td>\n",
              "      <td>28,157.68</td>\n",
              "      <td>17,374.52</td>\n",
              "      <td>10,768.15</td>\n",
              "      <td>15.01</td>\n",
              "      <td>conventional</td>\n",
              "      <td>2017</td>\n",
              "      <td>Louisville</td>\n",
              "      <td>19/03/2017</td>\n",
              "      <td>95,960.60</td>\n",
              "      <td>2.53</td>\n",
              "      <td>59.33</td>\n",
              "      <td>0.29</td>\n",
              "    </tr>\n",
              "    <tr>\n",
              "      <th>13879</th>\n",
              "      <td>2016-07-24</td>\n",
              "      <td>1.72</td>\n",
              "      <td>15,012.57</td>\n",
              "      <td>285.28</td>\n",
              "      <td>6,934.87</td>\n",
              "      <td>1,420.55</td>\n",
              "      <td>6,371.87</td>\n",
              "      <td>5,946.47</td>\n",
              "      <td>425.40</td>\n",
              "      <td>0.00</td>\n",
              "      <td>organic</td>\n",
              "      <td>2016</td>\n",
              "      <td>RaleighGreensboro</td>\n",
              "      <td>24/07/2016</td>\n",
              "      <td>25,821.62</td>\n",
              "      <td>1.90</td>\n",
              "      <td>46.19</td>\n",
              "      <td>9.46</td>\n",
              "    </tr>\n",
              "    <tr>\n",
              "      <th>6511</th>\n",
              "      <td>2017-02-05</td>\n",
              "      <td>1.14</td>\n",
              "      <td>348,380.90</td>\n",
              "      <td>117,876.11</td>\n",
              "      <td>153,442.16</td>\n",
              "      <td>4,525.24</td>\n",
              "      <td>72,537.39</td>\n",
              "      <td>67,100.41</td>\n",
              "      <td>5,107.70</td>\n",
              "      <td>329.28</td>\n",
              "      <td>conventional</td>\n",
              "      <td>2017</td>\n",
              "      <td>HarrisburgScranton</td>\n",
              "      <td>05/02/2017</td>\n",
              "      <td>397,154.23</td>\n",
              "      <td>33.84</td>\n",
              "      <td>44.04</td>\n",
              "      <td>1.30</td>\n",
              "    </tr>\n",
              "    <tr>\n",
              "      <th>12924</th>\n",
              "      <td>2016-12-04</td>\n",
              "      <td>1.63</td>\n",
              "      <td>3,346.65</td>\n",
              "      <td>143.41</td>\n",
              "      <td>1,277.96</td>\n",
              "      <td>0.00</td>\n",
              "      <td>1,925.28</td>\n",
              "      <td>631.05</td>\n",
              "      <td>1,294.23</td>\n",
              "      <td>0.00</td>\n",
              "      <td>organic</td>\n",
              "      <td>2016</td>\n",
              "      <td>Indianapolis</td>\n",
              "      <td>04/12/2016</td>\n",
              "      <td>5,455.04</td>\n",
              "      <td>4.29</td>\n",
              "      <td>38.19</td>\n",
              "      <td>0.00</td>\n",
              "    </tr>\n",
              "  </tbody>\n",
              "</table>\n",
              "</div>"
            ],
            "text/plain": [
              "            Data          Preço médio  ...    Porcentagem 300 g    Porcentagem 425 g\n",
              "2914  2016-12-11                 1.35  ...                62.66                 1.67\n",
              "6876  2017-03-19                 1.29  ...                59.33                 0.29\n",
              "13879 2016-07-24                 1.72  ...                46.19                 9.46\n",
              "6511  2017-02-05                 1.14  ...                44.04                 1.30\n",
              "12924 2016-12-04                 1.63  ...                38.19                 0.00\n",
              "\n",
              "[5 rows x 18 columns]"
            ]
          },
          "metadata": {},
          "execution_count": 17
        }
      ]
    },
    {
      "cell_type": "code",
      "metadata": {
        "colab": {
          "base_uri": "https://localhost:8080/"
        },
        "id": "cPzfRUXU9ZG5",
        "outputId": "bc734217-5d5a-4c65-9258-909eac1c9fe8"
      },
      "source": [
        "df['Cidade'].unique()"
      ],
      "execution_count": 18,
      "outputs": [
        {
          "output_type": "execute_result",
          "data": {
            "text/plain": [
              "array(['Albany', 'Atlanta', 'BaltimoreWashington', 'Boise', 'Boston',\n",
              "       'BuffaloRochester', 'California', 'Charlotte', 'Chicago',\n",
              "       'CincinnatiDayton', 'Columbus', 'DallasFtWorth', 'Denver',\n",
              "       'Detroit', 'HarrisburgScranton', 'HartfordSpringfield', 'Houston',\n",
              "       'Indianapolis', 'Jacksonville', 'LasVegas', 'LosAngeles',\n",
              "       'Louisville', 'MiamiFtLauderdale', 'Nashville', 'NewOrleansMobile',\n",
              "       'NewYork', 'Orlando', 'Philadelphia', 'PhoenixTucson',\n",
              "       'Pittsburgh', 'Portland', 'RaleighGreensboro', 'RichmondNorfolk',\n",
              "       'Roanoke', 'Sacramento', 'SanDiego', 'SanFrancisco', 'Seattle',\n",
              "       'SouthCarolina', 'Spokane', 'StLouis', 'Syracuse', 'Tampa',\n",
              "       'WestTexNewMexico'], dtype=object)"
            ]
          },
          "metadata": {},
          "execution_count": 18
        }
      ]
    },
    {
      "cell_type": "code",
      "metadata": {
        "colab": {
          "base_uri": "https://localhost:8080/"
        },
        "id": "OUjgieDs9wAQ",
        "outputId": "2d84eea5-86c7-4530-b152-b686a7de2ad6"
      },
      "source": [
        "# Group by (para todas cidades, por ano, retornando a Receita)\n",
        "df.groupby(['Cidade', 'Ano'])['Receita'].sum()"
      ],
      "execution_count": 19,
      "outputs": [
        {
          "output_type": "execute_result",
          "data": {
            "text/plain": [
              "Cidade            Ano \n",
              "Albany            2015           4,764,513.61\n",
              "                  2016           7,009,219.01\n",
              "                  2017           7,947,716.78\n",
              "                  2018           2,045,274.35\n",
              "Atlanta           2015          24,515,462.18\n",
              "                                 ...         \n",
              "Tampa             2018           7,912,084.03\n",
              "WestTexNewMexico  2015          32,242,475.24\n",
              "                  2016          36,941,988.34\n",
              "                  2017          42,162,256.60\n",
              "                  2018          10,218,699.01\n",
              "Name: Receita, Length: 176, dtype: float64"
            ]
          },
          "metadata": {},
          "execution_count": 19
        }
      ]
    },
    {
      "cell_type": "code",
      "metadata": {
        "colab": {
          "base_uri": "https://localhost:8080/"
        },
        "id": "y-dd6mhyfaFJ",
        "outputId": "da7c38ad-396e-4fbd-aff3-e9db16ec89a9"
      },
      "source": [
        "# Poderíamos observar o groupby apenas para uma cidade, por exemplo\n",
        "seattle = df.loc[df['Cidade'] == 'Seattle']\n",
        "seattle.groupby(['Ano'])['Receita'].sum()"
      ],
      "execution_count": 20,
      "outputs": [
        {
          "output_type": "execute_result",
          "data": {
            "text/plain": [
              "Ano\n",
              "2015          33,574,695.94\n",
              "2016          37,881,884.15\n",
              "2017          43,265,376.61\n",
              "2018          10,457,168.62\n",
              "Name: Receita, dtype: float64"
            ]
          },
          "metadata": {},
          "execution_count": 20
        }
      ]
    },
    {
      "cell_type": "code",
      "metadata": {
        "colab": {
          "base_uri": "https://localhost:8080/"
        },
        "id": "rkGOyoX9hWTO",
        "outputId": "14bb28f7-4c1c-4705-ac75-41b0228c84fd"
      },
      "source": [
        "# Qual o preço médio por cidade?\n",
        "(df.groupby(['Cidade'])['Preço médio'].mean())"
      ],
      "execution_count": 21,
      "outputs": [
        {
          "output_type": "execute_result",
          "data": {
            "text/plain": [
              "Cidade\n",
              "Albany                                1.56\n",
              "Atlanta                               1.34\n",
              "BaltimoreWashington                   1.53\n",
              "Boise                                 1.35\n",
              "Boston                                1.53\n",
              "BuffaloRochester                      1.52\n",
              "California                            1.40\n",
              "Charlotte                             1.61\n",
              "Chicago                               1.56\n",
              "CincinnatiDayton                      1.21\n",
              "Columbus                              1.25\n",
              "DallasFtWorth                         1.09\n",
              "Denver                                1.22\n",
              "Detroit                               1.28\n",
              "HarrisburgScranton                    1.51\n",
              "HartfordSpringfield                   1.82\n",
              "Houston                               1.05\n",
              "Indianapolis                          1.31\n",
              "Jacksonville                          1.51\n",
              "LasVegas                              1.38\n",
              "LosAngeles                            1.22\n",
              "Louisville                            1.29\n",
              "MiamiFtLauderdale                     1.43\n",
              "Nashville                             1.21\n",
              "NewOrleansMobile                      1.30\n",
              "NewYork                               1.73\n",
              "Orlando                               1.51\n",
              "Philadelphia                          1.63\n",
              "PhoenixTucson                         1.22\n",
              "Pittsburgh                            1.36\n",
              "Portland                              1.32\n",
              "RaleighGreensboro                     1.56\n",
              "RichmondNorfolk                       1.29\n",
              "Roanoke                               1.25\n",
              "Sacramento                            1.62\n",
              "SanDiego                              1.40\n",
              "SanFrancisco                          1.80\n",
              "Seattle                               1.44\n",
              "SouthCarolina                         1.40\n",
              "Spokane                               1.45\n",
              "StLouis                               1.43\n",
              "Syracuse                              1.52\n",
              "Tampa                                 1.41\n",
              "WestTexNewMexico                      1.26\n",
              "Name: Preço médio, dtype: float64"
            ]
          },
          "metadata": {},
          "execution_count": 21
        }
      ]
    },
    {
      "cell_type": "code",
      "metadata": {
        "colab": {
          "base_uri": "https://localhost:8080/"
        },
        "id": "7r_4FM0DiCGp",
        "outputId": "7c39d5d2-e91c-4354-cc63-198a631f0bfe"
      },
      "source": [
        "# Aproveitando a pesquisa anterior, quais os menores preços médios?\n",
        "media_preco = (df.groupby(['Cidade'])['Preço médio'].mean())\n",
        "media_preco.nsmallest(5)"
      ],
      "execution_count": 22,
      "outputs": [
        {
          "output_type": "execute_result",
          "data": {
            "text/plain": [
              "Cidade\n",
              "Houston                            1.05\n",
              "DallasFtWorth                      1.09\n",
              "CincinnatiDayton                   1.21\n",
              "Nashville                          1.21\n",
              "LosAngeles                         1.22\n",
              "Name: Preço médio, dtype: float64"
            ]
          },
          "metadata": {},
          "execution_count": 22
        }
      ]
    },
    {
      "cell_type": "code",
      "metadata": {
        "colab": {
          "base_uri": "https://localhost:8080/"
        },
        "id": "VCQTcyOykD6S",
        "outputId": "73ee0f4c-a2e7-40c0-e224-6d113c8eda55"
      },
      "source": [
        "# Por outro lado, as cidades com abacates mais caros são...\n",
        "media_preco.nlargest(5)"
      ],
      "execution_count": 23,
      "outputs": [
        {
          "output_type": "execute_result",
          "data": {
            "text/plain": [
              "Cidade\n",
              "HartfordSpringfield                   1.82\n",
              "SanFrancisco                          1.80\n",
              "NewYork                               1.73\n",
              "Philadelphia                          1.63\n",
              "Sacramento                            1.62\n",
              "Name: Preço médio, dtype: float64"
            ]
          },
          "metadata": {},
          "execution_count": 23
        }
      ]
    },
    {
      "cell_type": "code",
      "metadata": {
        "colab": {
          "base_uri": "https://localhost:8080/"
        },
        "id": "GYQY4b79U6C5",
        "outputId": "88f46aea-35b2-415f-d3d7-76d63e9fe168"
      },
      "source": [
        "df['Tipo'].unique()"
      ],
      "execution_count": 24,
      "outputs": [
        {
          "output_type": "execute_result",
          "data": {
            "text/plain": [
              "array(['conventional', 'organic'], dtype=object)"
            ]
          },
          "metadata": {},
          "execution_count": 24
        }
      ]
    },
    {
      "cell_type": "code",
      "metadata": {
        "colab": {
          "base_uri": "https://localhost:8080/"
        },
        "id": "VrIT4dlqUrF2",
        "outputId": "095dd750-1b65-4742-866a-5bc0feda0f0f"
      },
      "source": [
        "''' \n",
        "Vamos verificar a média de maiores e menores preços, em 2018, \n",
        "segundo o tipo de abacate\n",
        "'''\n",
        "df2018 = df.loc[df['Data'].dt.year == 2018]\n",
        "precos = df2018.groupby(['Tipo', 'Cidade'])['Preço médio'].mean().sort_values(ascending=False)\n",
        "precos"
      ],
      "execution_count": 25,
      "outputs": [
        {
          "output_type": "execute_result",
          "data": {
            "text/plain": [
              "Tipo          Cidade             \n",
              "organic       HartfordSpringfield                   1.97\n",
              "              SanFrancisco                          1.91\n",
              "              RaleighGreensboro                     1.88\n",
              "              SanDiego                              1.84\n",
              "              Boston                                1.82\n",
              "                                            ...         \n",
              "conventional  CincinnatiDayton                      0.96\n",
              "              WestTexNewMexico                      0.86\n",
              "              DallasFtWorth                         0.81\n",
              "              Houston                               0.72\n",
              "              PhoenixTucson                         0.68\n",
              "Name: Preço médio, Length: 88, dtype: float64"
            ]
          },
          "metadata": {},
          "execution_count": 25
        }
      ]
    },
    {
      "cell_type": "markdown",
      "metadata": {
        "id": "nGMq5f_ckt-7"
      },
      "source": [
        "### **Mais informações com groupby, gráficos e estatísticas**"
      ]
    },
    {
      "cell_type": "code",
      "metadata": {
        "id": "B32axZ10kx8V",
        "colab": {
          "base_uri": "https://localhost:8080/",
          "height": 300
        },
        "outputId": "0f55d9a0-8607-4a3a-b81e-58b3803573c0"
      },
      "source": [
        "# Os menores preços médios (com as respectivas cidades)\n",
        "media_preco.nsmallest(5).plot(title='Menores preços médios', color='orange')\n",
        "# media_preco.nlargest(5).plot()\n",
        "plt.xlabel('Cidades')\n",
        "plt.ylabel('Preço')\n",
        "plt.xticks(rotation='horizontal')\n",
        "plt.legend();"
      ],
      "execution_count": 26,
      "outputs": [
        {
          "output_type": "display_data",
          "data": {
            "image/png": "[encoded data removed]",
            "text/plain": [
              "<Figure size 432x288 with 1 Axes>"
            ]
          },
          "metadata": {
            "needs_background": "light"
          }
        }
      ]
    },
    {
      "cell_type": "code",
      "metadata": {
        "colab": {
          "base_uri": "https://localhost:8080/"
        },
        "id": "_Tv2K74PvsgI",
        "outputId": "8300f478-49d1-4b06-ccbd-1ac11f5884c6"
      },
      "source": [
        "''' \n",
        "A receita, agrupada por ano (os dados de 2018 são\n",
        "incompletos* ou houve uma queda enorme no consumo...)\n",
        "'''\n",
        "df.groupby(df['Data'].dt.year)['Receita'].sum()"
      ],
      "execution_count": 27,
      "outputs": [
        {
          "output_type": "execute_result",
          "data": {
            "text/plain": [
              "Data\n",
              "2015       1,374,859,239.56\n",
              "2016       1,525,348,713.03\n",
              "2017       1,806,781,294.10\n",
              "2018         443,118,391.83\n",
              "Name: Receita, dtype: float64"
            ]
          },
          "metadata": {},
          "execution_count": 27
        }
      ]
    },
    {
      "cell_type": "code",
      "metadata": {
        "colab": {
          "base_uri": "https://localhost:8080/"
        },
        "id": "e1GVB9hJ9fNY",
        "outputId": "14d9f765-2c1c-47b0-aaac-6fe3e8bb441d"
      },
      "source": [
        "''' \n",
        "*vamos verificar os dados de 2018\n",
        "R: Descobrimos que os dados do ano de 2018 só contemplam\n",
        "os três primeiros meses ...\n",
        "'''  \n",
        "dados2018 = df.loc[df['Data'].dt.year == 2018]\n",
        "dados2018.groupby(df['Data'].dt.month)['Receita'].sum()"
      ],
      "execution_count": 28,
      "outputs": [
        {
          "output_type": "execute_result",
          "data": {
            "text/plain": [
              "Data\n",
              "1         147,396,420.50\n",
              "2         149,203,197.53\n",
              "3         146,518,773.81\n",
              "Name: Receita, dtype: float64"
            ]
          },
          "metadata": {},
          "execution_count": 28
        }
      ]
    },
    {
      "cell_type": "code",
      "metadata": {
        "colab": {
          "base_uri": "https://localhost:8080/",
          "height": 299
        },
        "id": "GxOzaWrDwXqH",
        "outputId": "90357f12-cc00-4f2f-df76-7e51305c60ae"
      },
      "source": [
        "# A receita, agrupada por ano\n",
        "df.groupby(df['Data'].dt.year)['Receita'].sum().plot.bar(title=\\\n",
        "                               'Receita auferida por ano', color='darkgreen')\n",
        "plt.xlabel('Data')\n",
        "plt.ylabel('Receita (em milhões)')\n",
        "plt.xticks(rotation='horizontal');\n"
      ],
      "execution_count": 29,
      "outputs": [
        {
          "output_type": "display_data",
          "data": {
            "image/png": "[encoded data removed]",
            "text/plain": [
              "<Figure size 432x288 with 1 Axes>"
            ]
          },
          "metadata": {
            "needs_background": "light"
          }
        }
      ]
    },
    {
      "cell_type": "code",
      "metadata": {
        "colab": {
          "base_uri": "https://localhost:8080/"
        },
        "id": "HpWrKyrR-nUh",
        "outputId": "99e1bc23-a306-426b-e6f6-c344a67bae9d"
      },
      "source": [
        "# Vamos verificar apenas os três primeiros meses de cada ano\n",
        "meses3 = df.loc[df['Data'].dt.month.isin([1, 2, 3])]\n",
        "meses3.groupby(meses3['Data'].dt.year)['Receita'].sum()"
      ],
      "execution_count": 30,
      "outputs": [
        {
          "output_type": "execute_result",
          "data": {
            "text/plain": [
              "Data\n",
              "2015         339,208,048.51\n",
              "2016         360,586,414.10\n",
              "2017         413,863,220.98\n",
              "2018         443,118,391.83\n",
              "Name: Receita, dtype: float64"
            ]
          },
          "metadata": {},
          "execution_count": 30
        }
      ]
    },
    {
      "cell_type": "code",
      "metadata": {
        "colab": {
          "base_uri": "https://localhost:8080/",
          "height": 299
        },
        "id": "j_ippqibAFGz",
        "outputId": "3106be7d-50a6-453f-818a-cede2e4616f8"
      },
      "source": [
        "# Ou seja, verificamos que a receita de 2018 não é discrepante\n",
        "meses3.groupby(meses3['Data'].dt.year)['Receita'].sum().plot.barh(title=\\\n",
        "    'Receita anual (considerando o primeiro trimestre)', color='darkgreen')\n",
        "plt.xlabel('Receita')\n",
        "plt.ylabel('Ano');"
      ],
      "execution_count": 31,
      "outputs": [
        {
          "output_type": "display_data",
          "data": {
            "image/png": "[encoded data removed]",
            "text/plain": [
              "<Figure size 432x288 with 1 Axes>"
            ]
          },
          "metadata": {
            "needs_background": "light"
          }
        }
      ]
    },
    {
      "cell_type": "code",
      "metadata": {
        "colab": {
          "base_uri": "https://localhost:8080/"
        },
        "id": "Hd6ZKu7s7IHg",
        "outputId": "5daf84c7-73f4-4e50-a25a-3eb9afd8f12d"
      },
      "source": [
        "'''\n",
        "A receita de alguma cidade específica, separada por mês \n",
        "(considerando todos os anos)\n",
        "'''\n",
        "city = df.loc[df['Cidade'] == 'Portland']\n",
        "city.groupby(city['Data'].dt.month)['Receita'].sum()"
      ],
      "execution_count": 32,
      "outputs": [
        {
          "output_type": "execute_result",
          "data": {
            "text/plain": [
              "Data\n",
              "1           12,031,005.47\n",
              "2           10,929,358.08\n",
              "3           11,527,614.11\n",
              "4            9,043,827.87\n",
              "5           10,059,661.43\n",
              "6            8,652,319.29\n",
              "7           10,003,533.57\n",
              "8            9,086,821.08\n",
              "9            7,658,061.17\n",
              "10           9,110,446.16\n",
              "11           7,356,463.80\n",
              "12           7,405,462.74\n",
              "Name: Receita, dtype: float64"
            ]
          },
          "metadata": {},
          "execution_count": 32
        }
      ]
    },
    {
      "cell_type": "code",
      "metadata": {
        "colab": {
          "base_uri": "https://localhost:8080/",
          "height": 300
        },
        "id": "NCQJ4fKY7vEG",
        "outputId": "a3818825-2c18-4912-e691-19737387570f"
      },
      "source": [
        "city.groupby(city['Data'].dt.month)['Receita'].sum().plot(title=\\\n",
        "                                    'Receita da cidade de Portland (por mês)')\n",
        "plt.xlabel('Mês')\n",
        "plt.ylabel('Receita');"
      ],
      "execution_count": 33,
      "outputs": [
        {
          "output_type": "display_data",
          "data": {
            "image/png": "[encoded data removed]",
            "text/plain": [
              "<Figure size 432x288 with 1 Axes>"
            ]
          },
          "metadata": {
            "needs_background": "light"
          }
        }
      ]
    },
    {
      "cell_type": "code",
      "metadata": {
        "colab": {
          "base_uri": "https://localhost:8080/"
        },
        "id": "qqKPbi7M8lWL",
        "outputId": "762099c9-379e-450c-8c3c-33d01c7da394"
      },
      "source": [
        "'''\n",
        "A receita da cidade específica poderia ser separada\n",
        "por mês, considerando apenas algum ano especificado\n",
        "'''\n",
        "city = df.loc[(df['Cidade'] == 'LosAngeles') & (df['Data'].dt.year == 2016)]\n",
        "city.groupby(city['Data'].dt.month)['Receita'].sum()"
      ],
      "execution_count": 34,
      "outputs": [
        {
          "output_type": "execute_result",
          "data": {
            "text/plain": [
              "Data\n",
              "1           12,310,473.61\n",
              "2           10,533,586.13\n",
              "3           10,230,697.64\n",
              "4           10,067,161.58\n",
              "5           12,918,979.20\n",
              "6           11,711,831.98\n",
              "7           16,101,335.68\n",
              "8           12,390,101.76\n",
              "9           12,043,997.08\n",
              "10          14,596,021.90\n",
              "11          10,115,398.47\n",
              "12           8,879,194.03\n",
              "Name: Receita, dtype: float64"
            ]
          },
          "metadata": {},
          "execution_count": 34
        }
      ]
    },
    {
      "cell_type": "code",
      "metadata": {
        "colab": {
          "base_uri": "https://localhost:8080/"
        },
        "id": "_2vZyMvx-4hn",
        "outputId": "f9c4863f-eb72-4615-e421-b5bd63b08cf1"
      },
      "source": [
        "# Vamos verificar quais as maiores receitas, consideradas as cidades\n",
        "(df.groupby('Cidade')['Receita'].sum()).nlargest(10)"
      ],
      "execution_count": 35,
      "outputs": [
        {
          "output_type": "execute_result",
          "data": {
            "text/plain": [
              "Cidade\n",
              "California                1,121,414,026.51\n",
              "LosAngeles                  484,227,610.41\n",
              "NewYork                     335,195,542.05\n",
              "SanFrancisco                185,834,084.04\n",
              "BaltimoreWashington         179,908,448.06\n",
              "Chicago                     179,110,584.76\n",
              "DallasFtWorth               175,609,297.87\n",
              "Houston                     165,571,340.23\n",
              "Denver                      145,982,845.53\n",
              "PhoenixTucson               138,451,462.02\n",
              "Name: Receita, dtype: float64"
            ]
          },
          "metadata": {},
          "execution_count": 35
        }
      ]
    },
    {
      "cell_type": "code",
      "metadata": {
        "colab": {
          "base_uri": "https://localhost:8080/",
          "height": 395
        },
        "id": "jJkIM0MJCGz3",
        "outputId": "41bf6c42-dfaf-4de6-d0b5-c262cdd718b0"
      },
      "source": [
        "(df.groupby('Cidade')['Receita'].sum()).nlargest(10).plot.bar(title=\\\n",
        "       'Dez maiores receitas, por cidade', color='darkgreen')\n",
        "plt.xlabel('Cidade')\n",
        "plt.ylabel('Receita')\n",
        "plt.xticks(rotation=75);"
      ],
      "execution_count": 36,
      "outputs": [
        {
          "output_type": "display_data",
          "data": {
            "image/png": "[encoded data removed]",
            "text/plain": [
              "<Figure size 432x288 with 1 Axes>"
            ]
          },
          "metadata": {
            "needs_background": "light"
          }
        }
      ]
    },
    {
      "cell_type": "code",
      "metadata": {
        "colab": {
          "base_uri": "https://localhost:8080/"
        },
        "id": "Nl5lSV00Cwaj",
        "outputId": "1ad9b11e-8b18-41c2-8e53-cc4a4f18e7e5"
      },
      "source": [
        "''' \n",
        "Vamos agora verificar as maiores receitas, por região\n",
        "'''\n",
        "(df_regioes.groupby('Cidade')['Receita'].sum()).nlargest(10)"
      ],
      "execution_count": 37,
      "outputs": [
        {
          "output_type": "execute_result",
          "data": {
            "text/plain": [
              "Cidade\n",
              "TotalUS                  6,387,593,101.34\n",
              "West                     1,066,833,656.04\n",
              "Northeast                  960,007,873.70\n",
              "SouthCentral               874,059,289.26\n",
              "Southeast                  703,630,581.04\n",
              "GreatLakes                 688,661,844.27\n",
              "Midsouth                   615,723,838.99\n",
              "Plains                     360,036,649.82\n",
              "NorthernNewEngland          89,625,254.97\n",
              "GrandRapids                 37,851,238.92\n",
              "Name: Receita, dtype: float64"
            ]
          },
          "metadata": {},
          "execution_count": 37
        }
      ]
    },
    {
      "cell_type": "code",
      "metadata": {
        "colab": {
          "base_uri": "https://localhost:8080/",
          "height": 395
        },
        "id": "OtXieow2GiHu",
        "outputId": "e956c0b2-c08e-4314-8565-5e1306d69769"
      },
      "source": [
        "# Dez maiores receitas por região (excluímos os dados totalizadores)\n",
        "regioes = df_regioes.loc[~df_regioes['Cidade'].isin(['TotalUS'])]\n",
        "(regioes.groupby('Cidade')['Receita'].sum()).nlargest(10).plot.bar(title=\\\n",
        "                      '10 maiores receitas por região', color='darkblue')\n",
        "plt.xlabel('Região')\n",
        "plt.ylabel('Receita')\n",
        "plt.xticks(rotation=75);"
      ],
      "execution_count": 38,
      "outputs": [
        {
          "output_type": "display_data",
          "data": {
            "image/png": "[encoded data removed]",
            "text/plain": [
              "<Figure size 432x288 with 1 Axes>"
            ]
          },
          "metadata": {
            "needs_background": "light"
          }
        }
      ]
    },
    {
      "cell_type": "code",
      "metadata": {
        "colab": {
          "base_uri": "https://localhost:8080/",
          "height": 1000
        },
        "id": "C71NUpd5xihm",
        "outputId": "2cf3eabb-bcea-4773-e8d8-2273dc862642"
      },
      "source": [
        "# Totais por tipo de sacola: pequena, grande, extragrande\n",
        "df.groupby(df['Cidade'])[['Sacolas pequenas', 'Sacolas grandes',\\\n",
        "                         'Sacolas extragrandes']].sum()"
      ],
      "execution_count": 39,
      "outputs": [
        {
          "output_type": "execute_result",
          "data": {
            "text/html": [
              "<div>\n",
              "<style scoped>\n",
              "    .dataframe tbody tr th:only-of-type {\n",
              "        vertical-align: middle;\n",
              "    }\n",
              "\n",
              "    .dataframe tbody tr th {\n",
              "        vertical-align: top;\n",
              "    }\n",
              "\n",
              "    .dataframe thead th {\n",
              "        text-align: right;\n",
              "    }\n",
              "</style>\n",
              "<table border=\"1\" class=\"dataframe\">\n",
              "  <thead>\n",
              "    <tr style=\"text-align: right;\">\n",
              "      <th></th>\n",
              "      <th>Sacolas pequenas</th>\n",
              "      <th>Sacolas grandes</th>\n",
              "      <th>Sacolas extragrandes</th>\n",
              "    </tr>\n",
              "    <tr>\n",
              "      <th>Cidade</th>\n",
              "      <th></th>\n",
              "      <th></th>\n",
              "      <th></th>\n",
              "    </tr>\n",
              "  </thead>\n",
              "  <tbody>\n",
              "    <tr>\n",
              "      <th>Albany</th>\n",
              "      <td>2,246,944.73</td>\n",
              "      <td>389,881.72</td>\n",
              "      <td>43,429.16</td>\n",
              "    </tr>\n",
              "    <tr>\n",
              "      <th>Atlanta</th>\n",
              "      <td>17,442,735.84</td>\n",
              "      <td>10,839,675.06</td>\n",
              "      <td>278,101.68</td>\n",
              "    </tr>\n",
              "    <tr>\n",
              "      <th>BaltimoreWashington</th>\n",
              "      <td>34,117,612.92</td>\n",
              "      <td>981,546.79</td>\n",
              "      <td>206,985.36</td>\n",
              "    </tr>\n",
              "    <tr>\n",
              "      <th>Boise</th>\n",
              "      <td>4,677,932.59</td>\n",
              "      <td>711,028.32</td>\n",
              "      <td>10,449.34</td>\n",
              "    </tr>\n",
              "    <tr>\n",
              "      <th>Boston</th>\n",
              "      <td>19,910,427.54</td>\n",
              "      <td>1,500,167.27</td>\n",
              "      <td>84,879.99</td>\n",
              "    </tr>\n",
              "    <tr>\n",
              "      <th>BuffaloRochester</th>\n",
              "      <td>10,268,431.79</td>\n",
              "      <td>1,260,418.90</td>\n",
              "      <td>81,901.94</td>\n",
              "    </tr>\n",
              "    <tr>\n",
              "      <th>California</th>\n",
              "      <td>229,097,679.89</td>\n",
              "      <td>12,311,935.91</td>\n",
              "      <td>5,272,577.91</td>\n",
              "    </tr>\n",
              "    <tr>\n",
              "      <th>Charlotte</th>\n",
              "      <td>10,643,851.57</td>\n",
              "      <td>984,487.25</td>\n",
              "      <td>69,603.59</td>\n",
              "    </tr>\n",
              "    <tr>\n",
              "      <th>Chicago</th>\n",
              "      <td>14,794,653.07</td>\n",
              "      <td>1,691,874.84</td>\n",
              "      <td>378,872.71</td>\n",
              "    </tr>\n",
              "    <tr>\n",
              "      <th>CincinnatiDayton</th>\n",
              "      <td>5,661,893.92</td>\n",
              "      <td>14,972,194.79</td>\n",
              "      <td>263,830.73</td>\n",
              "    </tr>\n",
              "    <tr>\n",
              "      <th>Columbus</th>\n",
              "      <td>8,070,792.71</td>\n",
              "      <td>1,724,880.00</td>\n",
              "      <td>220,715.52</td>\n",
              "    </tr>\n",
              "    <tr>\n",
              "      <th>DallasFtWorth</th>\n",
              "      <td>40,821,736.08</td>\n",
              "      <td>5,215,721.39</td>\n",
              "      <td>432,293.08</td>\n",
              "    </tr>\n",
              "    <tr>\n",
              "      <th>Denver</th>\n",
              "      <td>18,763,605.17</td>\n",
              "      <td>40,140,921.55</td>\n",
              "      <td>52,481.28</td>\n",
              "    </tr>\n",
              "    <tr>\n",
              "      <th>Detroit</th>\n",
              "      <td>19,939,071.39</td>\n",
              "      <td>2,671,968.52</td>\n",
              "      <td>1,649,024.44</td>\n",
              "    </tr>\n",
              "    <tr>\n",
              "      <th>HarrisburgScranton</th>\n",
              "      <td>12,772,872.22</td>\n",
              "      <td>601,765.75</td>\n",
              "      <td>154,618.16</td>\n",
              "    </tr>\n",
              "    <tr>\n",
              "      <th>HartfordSpringfield</th>\n",
              "      <td>10,778,560.68</td>\n",
              "      <td>476,848.23</td>\n",
              "      <td>77,601.72</td>\n",
              "    </tr>\n",
              "    <tr>\n",
              "      <th>Houston</th>\n",
              "      <td>32,525,167.34</td>\n",
              "      <td>17,363,763.93</td>\n",
              "      <td>326,132.75</td>\n",
              "    </tr>\n",
              "    <tr>\n",
              "      <th>Indianapolis</th>\n",
              "      <td>6,611,063.62</td>\n",
              "      <td>5,086,256.44</td>\n",
              "      <td>283,489.96</td>\n",
              "    </tr>\n",
              "    <tr>\n",
              "      <th>Jacksonville</th>\n",
              "      <td>4,339,786.57</td>\n",
              "      <td>5,273,004.15</td>\n",
              "      <td>105,335.77</td>\n",
              "    </tr>\n",
              "    <tr>\n",
              "      <th>LasVegas</th>\n",
              "      <td>8,977,623.36</td>\n",
              "      <td>9,059,314.73</td>\n",
              "      <td>16,054.32</td>\n",
              "    </tr>\n",
              "    <tr>\n",
              "      <th>LosAngeles</th>\n",
              "      <td>155,726,104.01</td>\n",
              "      <td>8,463,145.47</td>\n",
              "      <td>4,075,279.95</td>\n",
              "    </tr>\n",
              "    <tr>\n",
              "      <th>Louisville</th>\n",
              "      <td>2,814,241.20</td>\n",
              "      <td>3,713,124.60</td>\n",
              "      <td>107,922.98</td>\n",
              "    </tr>\n",
              "    <tr>\n",
              "      <th>MiamiFtLauderdale</th>\n",
              "      <td>11,219,973.67</td>\n",
              "      <td>11,990,810.10</td>\n",
              "      <td>305,657.99</td>\n",
              "    </tr>\n",
              "    <tr>\n",
              "      <th>Nashville</th>\n",
              "      <td>10,042,786.84</td>\n",
              "      <td>2,812,894.41</td>\n",
              "      <td>111,486.16</td>\n",
              "    </tr>\n",
              "    <tr>\n",
              "      <th>NewOrleansMobile</th>\n",
              "      <td>11,859,554.58</td>\n",
              "      <td>1,896,699.23</td>\n",
              "      <td>512,688.70</td>\n",
              "    </tr>\n",
              "    <tr>\n",
              "      <th>NewYork</th>\n",
              "      <td>58,401,682.50</td>\n",
              "      <td>9,232,997.58</td>\n",
              "      <td>359,477.68</td>\n",
              "    </tr>\n",
              "    <tr>\n",
              "      <th>Orlando</th>\n",
              "      <td>8,927,878.80</td>\n",
              "      <td>7,690,513.85</td>\n",
              "      <td>243,247.03</td>\n",
              "    </tr>\n",
              "    <tr>\n",
              "      <th>Philadelphia</th>\n",
              "      <td>21,417,023.89</td>\n",
              "      <td>2,352,055.64</td>\n",
              "      <td>106,151.72</td>\n",
              "    </tr>\n",
              "    <tr>\n",
              "      <th>PhoenixTucson</th>\n",
              "      <td>22,272,628.31</td>\n",
              "      <td>16,480,700.61</td>\n",
              "      <td>154,908.38</td>\n",
              "    </tr>\n",
              "    <tr>\n",
              "      <th>Pittsburgh</th>\n",
              "      <td>5,408,180.14</td>\n",
              "      <td>1,779,697.27</td>\n",
              "      <td>57,585.02</td>\n",
              "    </tr>\n",
              "    <tr>\n",
              "      <th>Portland</th>\n",
              "      <td>41,508,621.22</td>\n",
              "      <td>7,917,725.16</td>\n",
              "      <td>78,012.09</td>\n",
              "    </tr>\n",
              "    <tr>\n",
              "      <th>RaleighGreensboro</th>\n",
              "      <td>15,040,483.31</td>\n",
              "      <td>541,146.08</td>\n",
              "      <td>95,048.10</td>\n",
              "    </tr>\n",
              "    <tr>\n",
              "      <th>RichmondNorfolk</th>\n",
              "      <td>11,656,503.01</td>\n",
              "      <td>727,940.92</td>\n",
              "      <td>123,783.85</td>\n",
              "    </tr>\n",
              "    <tr>\n",
              "      <th>Roanoke</th>\n",
              "      <td>8,456,339.22</td>\n",
              "      <td>1,055,164.13</td>\n",
              "      <td>79,483.35</td>\n",
              "    </tr>\n",
              "    <tr>\n",
              "      <th>Sacramento</th>\n",
              "      <td>8,696,840.97</td>\n",
              "      <td>76,715.04</td>\n",
              "      <td>208,711.11</td>\n",
              "    </tr>\n",
              "    <tr>\n",
              "      <th>SanDiego</th>\n",
              "      <td>20,275,789.81</td>\n",
              "      <td>2,921,823.74</td>\n",
              "      <td>145,054.97</td>\n",
              "    </tr>\n",
              "    <tr>\n",
              "      <th>SanFrancisco</th>\n",
              "      <td>14,502,351.14</td>\n",
              "      <td>176,939.24</td>\n",
              "      <td>211,634.59</td>\n",
              "    </tr>\n",
              "    <tr>\n",
              "      <th>Seattle</th>\n",
              "      <td>42,447,140.63</td>\n",
              "      <td>8,175,947.66</td>\n",
              "      <td>68,310.44</td>\n",
              "    </tr>\n",
              "    <tr>\n",
              "      <th>SouthCarolina</th>\n",
              "      <td>13,413,347.16</td>\n",
              "      <td>4,513,255.99</td>\n",
              "      <td>226,570.63</td>\n",
              "    </tr>\n",
              "    <tr>\n",
              "      <th>Spokane</th>\n",
              "      <td>5,368,311.52</td>\n",
              "      <td>878,881.63</td>\n",
              "      <td>7,182.72</td>\n",
              "    </tr>\n",
              "    <tr>\n",
              "      <th>StLouis</th>\n",
              "      <td>11,931,855.92</td>\n",
              "      <td>2,579,377.16</td>\n",
              "      <td>224,797.89</td>\n",
              "    </tr>\n",
              "    <tr>\n",
              "      <th>Syracuse</th>\n",
              "      <td>3,645,651.41</td>\n",
              "      <td>505,015.10</td>\n",
              "      <td>41,761.94</td>\n",
              "    </tr>\n",
              "    <tr>\n",
              "      <th>Tampa</th>\n",
              "      <td>10,608,074.34</td>\n",
              "      <td>8,653,437.84</td>\n",
              "      <td>235,178.73</td>\n",
              "    </tr>\n",
              "    <tr>\n",
              "      <th>WestTexNewMexico</th>\n",
              "      <td>19,931,756.29</td>\n",
              "      <td>15,051,247.19</td>\n",
              "      <td>313,511.05</td>\n",
              "    </tr>\n",
              "  </tbody>\n",
              "</table>\n",
              "</div>"
            ],
            "text/plain": [
              "                        Sacolas pequenas  ...  Sacolas extragrandes\n",
              "Cidade                                    ...                      \n",
              "Albany                      2,246,944.73  ...             43,429.16\n",
              "Atlanta                    17,442,735.84  ...            278,101.68\n",
              "BaltimoreWashington        34,117,612.92  ...            206,985.36\n",
              "Boise                       4,677,932.59  ...             10,449.34\n",
              "Boston                     19,910,427.54  ...             84,879.99\n",
              "BuffaloRochester           10,268,431.79  ...             81,901.94\n",
              "California                229,097,679.89  ...          5,272,577.91\n",
              "Charlotte                  10,643,851.57  ...             69,603.59\n",
              "Chicago                    14,794,653.07  ...            378,872.71\n",
              "CincinnatiDayton            5,661,893.92  ...            263,830.73\n",
              "Columbus                    8,070,792.71  ...            220,715.52\n",
              "DallasFtWorth              40,821,736.08  ...            432,293.08\n",
              "Denver                     18,763,605.17  ...             52,481.28\n",
              "Detroit                    19,939,071.39  ...          1,649,024.44\n",
              "HarrisburgScranton         12,772,872.22  ...            154,618.16\n",
              "HartfordSpringfield        10,778,560.68  ...             77,601.72\n",
              "Houston                    32,525,167.34  ...            326,132.75\n",
              "Indianapolis                6,611,063.62  ...            283,489.96\n",
              "Jacksonville                4,339,786.57  ...            105,335.77\n",
              "LasVegas                    8,977,623.36  ...             16,054.32\n",
              "LosAngeles                155,726,104.01  ...          4,075,279.95\n",
              "Louisville                  2,814,241.20  ...            107,922.98\n",
              "MiamiFtLauderdale          11,219,973.67  ...            305,657.99\n",
              "Nashville                  10,042,786.84  ...            111,486.16\n",
              "NewOrleansMobile           11,859,554.58  ...            512,688.70\n",
              "NewYork                    58,401,682.50  ...            359,477.68\n",
              "Orlando                     8,927,878.80  ...            243,247.03\n",
              "Philadelphia               21,417,023.89  ...            106,151.72\n",
              "PhoenixTucson              22,272,628.31  ...            154,908.38\n",
              "Pittsburgh                  5,408,180.14  ...             57,585.02\n",
              "Portland                   41,508,621.22  ...             78,012.09\n",
              "RaleighGreensboro          15,040,483.31  ...             95,048.10\n",
              "RichmondNorfolk            11,656,503.01  ...            123,783.85\n",
              "Roanoke                     8,456,339.22  ...             79,483.35\n",
              "Sacramento                  8,696,840.97  ...            208,711.11\n",
              "SanDiego                   20,275,789.81  ...            145,054.97\n",
              "SanFrancisco               14,502,351.14  ...            211,634.59\n",
              "Seattle                    42,447,140.63  ...             68,310.44\n",
              "SouthCarolina              13,413,347.16  ...            226,570.63\n",
              "Spokane                     5,368,311.52  ...              7,182.72\n",
              "StLouis                    11,931,855.92  ...            224,797.89\n",
              "Syracuse                    3,645,651.41  ...             41,761.94\n",
              "Tampa                      10,608,074.34  ...            235,178.73\n",
              "WestTexNewMexico           19,931,756.29  ...            313,511.05\n",
              "\n",
              "[44 rows x 3 columns]"
            ]
          },
          "metadata": {},
          "execution_count": 39
        }
      ]
    },
    {
      "cell_type": "code",
      "metadata": {
        "colab": {
          "base_uri": "https://localhost:8080/",
          "height": 299
        },
        "id": "XX0USa13zmAh",
        "outputId": "067723f8-dbf0-44f7-8bb6-232464bae60a"
      },
      "source": [
        "# Os totais por sacola de todo o país (TotalUS), disposto em um gráfico\n",
        "totalUS = df_regioes.loc[df_regioes['Cidade'] == 'TotalUS']\n",
        "totalUS.groupby(totalUS['Cidade'])[['Sacolas pequenas', 'Sacolas grandes',\\\n",
        "                         'Sacolas extragrandes']].sum().plot.bar(title= \\\n",
        "                                                'Total por tipo de sacola')\n",
        "plt.xticks(rotation='horizontal');"
      ],
      "execution_count": 40,
      "outputs": [
        {
          "output_type": "display_data",
          "data": {
            "image/png": "[encoded data removed]",
            "text/plain": [
              "<Figure size 432x288 with 1 Axes>"
            ]
          },
          "metadata": {
            "needs_background": "light"
          }
        }
      ]
    },
    {
      "cell_type": "code",
      "metadata": {
        "colab": {
          "base_uri": "https://localhost:8080/"
        },
        "id": "pwpk-ItMS5pp",
        "outputId": "5e234492-99f8-49b1-cbf3-9a6ac0981dfe"
      },
      "source": [
        "# Qual tipo de abacate tem consumo maior? (1)\n",
        "df['Tipo'].unique()"
      ],
      "execution_count": 41,
      "outputs": [
        {
          "output_type": "execute_result",
          "data": {
            "text/plain": [
              "array(['conventional', 'organic'], dtype=object)"
            ]
          },
          "metadata": {},
          "execution_count": 41
        }
      ]
    },
    {
      "cell_type": "code",
      "metadata": {
        "colab": {
          "base_uri": "https://localhost:8080/"
        },
        "id": "H6VEwngPTIUo",
        "outputId": "0ac06aaf-8a5a-486a-a7f0-d3312c93d021"
      },
      "source": [
        "# Qual tipo de abacate tem consumo maior? (2)\n",
        "df.groupby('Tipo')['Volume'].sum()"
      ],
      "execution_count": 42,
      "outputs": [
        {
          "output_type": "execute_result",
          "data": {
            "text/plain": [
              "Tipo\n",
              "conventional       4,589,395,724.22\n",
              "organic              131,763,528.49\n",
              "Name: Volume, dtype: float64"
            ]
          },
          "metadata": {},
          "execution_count": 42
        }
      ]
    },
    {
      "cell_type": "code",
      "metadata": {
        "colab": {
          "base_uri": "https://localhost:8080/",
          "height": 265
        },
        "id": "tP2N2JAdTZsy",
        "outputId": "2250ae5a-c524-479a-8490-59e49ee3a31a"
      },
      "source": [
        "# Qual tipo de abacate tem consumo maior? (3)\n",
        "df.groupby('Tipo')['Volume'].sum().plot.pie(title=\\\n",
        "                          'Volume consumido por tipo')\n",
        "plt.xlabel('')\n",
        "plt.ylabel('');"
      ],
      "execution_count": 43,
      "outputs": [
        {
          "output_type": "display_data",
          "data": {
            "image/png": "[encoded data removed]",
            "text/plain": [
              "<Figure size 432x288 with 1 Axes>"
            ]
          },
          "metadata": {}
        }
      ]
    },
    {
      "cell_type": "code",
      "metadata": {
        "colab": {
          "base_uri": "https://localhost:8080/",
          "height": 265
        },
        "id": "1wyB5PI53_Hm",
        "outputId": "703c25a7-8ddf-43ab-9944-7a3f6c70f014"
      },
      "source": [
        "# Estatísticas do preço médio em um boxplot (candle)\n",
        "cidades = df.groupby('Cidade')['Preço médio'].mean()\n",
        "plt.boxplot(cidades);"
      ],
      "execution_count": 44,
      "outputs": [
        {
          "output_type": "display_data",
          "data": {
            "image/png": "[encoded data removed]",
            "text/plain": [
              "<Figure size 432x288 with 1 Axes>"
            ]
          },
          "metadata": {
            "needs_background": "light"
          }
        }
      ]
    },
    {
      "cell_type": "code",
      "metadata": {
        "colab": {
          "base_uri": "https://localhost:8080/",
          "height": 265
        },
        "id": "bUA48eaR5iUK",
        "outputId": "d27b9c62-89c6-4599-81d4-aba531786527"
      },
      "source": [
        "# As mesmas estatísticas do preço médio em um histograma\n",
        "plt.hist(cidades, color='orangered');"
      ],
      "execution_count": 45,
      "outputs": [
        {
          "output_type": "display_data",
          "data": {
            "image/png": "[encoded data removed]",
            "text/plain": [
              "<Figure size 432x288 with 1 Axes>"
            ]
          },
          "metadata": {
            "needs_background": "light"
          }
        }
      ]
    },
    {
      "cell_type": "code",
      "metadata": {
        "id": "CW1wXbIW6v41"
      },
      "source": [
        "# Podemos baixar as alterações que fizemos no dataframe\n",
        "df.to_csv('df_avocado_novo.csv', index=False)\n",
        "df_regioes.to_csv('df_regios_avocado_novo.csv', index=False)"
      ],
      "execution_count": 46,
      "outputs": []
    }
  ]
}