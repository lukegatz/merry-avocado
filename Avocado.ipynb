{
  "nbformat": 4,
  "nbformat_minor": 0,
  "metadata": {
    "colab": {
      "name": "Avocado.ipynb",
      "provenance": [],
      "collapsed_sections": []
    },
    "kernelspec": {
      "name": "python3",
      "display_name": "Python 3"
    },
    "language_info": {
      "name": "python"
    }
  },
  "cells": [
    {
      "cell_type": "markdown",
      "metadata": {
        "id": "1_drbAQxNzIJ"
      },
      "source": [
        "# **Projeto Avocado**\n",
        "### **(análise de dados com Python e Pandas)**"
      ]
    },
    {
      "cell_type": "markdown",
      "metadata": {
        "id": "wlP8NI3CNDmE"
      },
      "source": [
        "\n",
        "\n",
        "\n",
        "---\n",
        "\n",
        "\n",
        "\n",
        "### **Extração e tratamento dos dados**\n"
      ]
    },
    {
      "cell_type": "code",
      "metadata": {
        "id": "0x_t-LJTNwMY"
      },
      "source": [
        "# bibliotecas importadas\n",
        "import pandas as pd\n",
        "import matplotlib.pyplot as plt\n",
        "plt.style.use('ggplot')\n",
        "# Formatação dos números\n",
        "pd.options.display.float_format = '{:20,.2f}'.format"
      ],
      "execution_count": 1,
      "outputs": []
    },
    {
      "cell_type": "code",
      "metadata": {
        "id": "GGWSMD4wOOQQ"
      },
      "source": [
        "# dataset que iremos utilizar (foi preciso realizar a conversão na data)\n",
        "df = pd.read_csv('/content/drive/MyDrive/Colab Notebooks/datasets/avocado.csv', \\\n",
        "                 parse_dates=['Date'], date_parser=lambda col: \\\n",
        "                 pd.to_datetime(col, yearfirst=True, errors='coerce'))"
      ],
      "execution_count": 2,
      "outputs": []
    },
    {
      "cell_type": "code",
      "metadata": {
        "id": "xLMyelHz6wHI"
      },
      "source": [
        "'''\n",
        "Aplicamos a conversão ao formato de data, voltando a coluna data \n",
        "para tipo String\n",
        "'''\n",
        "df['Date'] = df.Date.dt.strftime('%d/%m/%Y')"
      ],
      "execution_count": 3,
      "outputs": []
    },
    {
      "cell_type": "code",
      "metadata": {
        "colab": {
          "base_uri": "https://localhost:8080/",
          "height": 221
        },
        "id": "7JICXhRJOqQd",
        "outputId": "1a0d0141-a526-4449-e5ea-7670791bdbe9"
      },
      "source": [
        "df.head(5)"
      ],
      "execution_count": 4,
      "outputs": [
        {
          "output_type": "execute_result",
          "data": {
            "text/html": [
              "<div>\n",
              "<style scoped>\n",
              "    .dataframe tbody tr th:only-of-type {\n",
              "        vertical-align: middle;\n",
              "    }\n",
              "\n",
              "    .dataframe tbody tr th {\n",
              "        vertical-align: top;\n",
              "    }\n",
              "\n",
              "    .dataframe thead th {\n",
              "        text-align: right;\n",
              "    }\n",
              "</style>\n",
              "<table border=\"1\" class=\"dataframe\">\n",
              "  <thead>\n",
              "    <tr style=\"text-align: right;\">\n",
              "      <th></th>\n",
              "      <th>Unnamed: 0</th>\n",
              "      <th>Date</th>\n",
              "      <th>AveragePrice</th>\n",
              "      <th>Total Volume</th>\n",
              "      <th>4046</th>\n",
              "      <th>4225</th>\n",
              "      <th>4770</th>\n",
              "      <th>Total Bags</th>\n",
              "      <th>Small Bags</th>\n",
              "      <th>Large Bags</th>\n",
              "      <th>XLarge Bags</th>\n",
              "      <th>type</th>\n",
              "      <th>year</th>\n",
              "      <th>region</th>\n",
              "    </tr>\n",
              "  </thead>\n",
              "  <tbody>\n",
              "    <tr>\n",
              "      <th>0</th>\n",
              "      <td>0</td>\n",
              "      <td>27/12/2015</td>\n",
              "      <td>1.33</td>\n",
              "      <td>64,236.62</td>\n",
              "      <td>1,036.74</td>\n",
              "      <td>54,454.85</td>\n",
              "      <td>48.16</td>\n",
              "      <td>8,696.87</td>\n",
              "      <td>8,603.62</td>\n",
              "      <td>93.25</td>\n",
              "      <td>0.00</td>\n",
              "      <td>conventional</td>\n",
              "      <td>2015</td>\n",
              "      <td>Albany</td>\n",
              "    </tr>\n",
              "    <tr>\n",
              "      <th>1</th>\n",
              "      <td>1</td>\n",
              "      <td>20/12/2015</td>\n",
              "      <td>1.35</td>\n",
              "      <td>54,876.98</td>\n",
              "      <td>674.28</td>\n",
              "      <td>44,638.81</td>\n",
              "      <td>58.33</td>\n",
              "      <td>9,505.56</td>\n",
              "      <td>9,408.07</td>\n",
              "      <td>97.49</td>\n",
              "      <td>0.00</td>\n",
              "      <td>conventional</td>\n",
              "      <td>2015</td>\n",
              "      <td>Albany</td>\n",
              "    </tr>\n",
              "    <tr>\n",
              "      <th>2</th>\n",
              "      <td>2</td>\n",
              "      <td>13/12/2015</td>\n",
              "      <td>0.93</td>\n",
              "      <td>118,220.22</td>\n",
              "      <td>794.70</td>\n",
              "      <td>109,149.67</td>\n",
              "      <td>130.50</td>\n",
              "      <td>8,145.35</td>\n",
              "      <td>8,042.21</td>\n",
              "      <td>103.14</td>\n",
              "      <td>0.00</td>\n",
              "      <td>conventional</td>\n",
              "      <td>2015</td>\n",
              "      <td>Albany</td>\n",
              "    </tr>\n",
              "    <tr>\n",
              "      <th>3</th>\n",
              "      <td>3</td>\n",
              "      <td>06/12/2015</td>\n",
              "      <td>1.08</td>\n",
              "      <td>78,992.15</td>\n",
              "      <td>1,132.00</td>\n",
              "      <td>71,976.41</td>\n",
              "      <td>72.58</td>\n",
              "      <td>5,811.16</td>\n",
              "      <td>5,677.40</td>\n",
              "      <td>133.76</td>\n",
              "      <td>0.00</td>\n",
              "      <td>conventional</td>\n",
              "      <td>2015</td>\n",
              "      <td>Albany</td>\n",
              "    </tr>\n",
              "    <tr>\n",
              "      <th>4</th>\n",
              "      <td>4</td>\n",
              "      <td>29/11/2015</td>\n",
              "      <td>1.28</td>\n",
              "      <td>51,039.60</td>\n",
              "      <td>941.48</td>\n",
              "      <td>43,838.39</td>\n",
              "      <td>75.78</td>\n",
              "      <td>6,183.95</td>\n",
              "      <td>5,986.26</td>\n",
              "      <td>197.69</td>\n",
              "      <td>0.00</td>\n",
              "      <td>conventional</td>\n",
              "      <td>2015</td>\n",
              "      <td>Albany</td>\n",
              "    </tr>\n",
              "  </tbody>\n",
              "</table>\n",
              "</div>"
            ],
            "text/plain": [
              "   Unnamed: 0        Date         AveragePrice  ...          type  year  region\n",
              "0           0  27/12/2015                 1.33  ...  conventional  2015  Albany\n",
              "1           1  20/12/2015                 1.35  ...  conventional  2015  Albany\n",
              "2           2  13/12/2015                 0.93  ...  conventional  2015  Albany\n",
              "3           3  06/12/2015                 1.08  ...  conventional  2015  Albany\n",
              "4           4  29/11/2015                 1.28  ...  conventional  2015  Albany\n",
              "\n",
              "[5 rows x 14 columns]"
            ]
          },
          "metadata": {},
          "execution_count": 4
        }
      ]
    },
    {
      "cell_type": "code",
      "metadata": {
        "id": "KXPWz9apOwhx"
      },
      "source": [
        "'''\n",
        "Como será preciso novamente aplicar conversão à data (para que tenhamos um campo \n",
        "de data para trabalhar), criamos uma coluna de data em formato BR str (só para \n",
        "fins acadêmicos)\n",
        "''' \n",
        "df['Data padrão BR'] = df['Date']\n",
        "df['Date'] = pd.to_datetime(df['Date'], dayfirst=True, errors='coerce', \\\n",
        "                            format='%d/%m/%Y')"
      ],
      "execution_count": 5,
      "outputs": []
    },
    {
      "cell_type": "code",
      "metadata": {
        "colab": {
          "base_uri": "https://localhost:8080/"
        },
        "id": "RmC6OlXcLWFe",
        "outputId": "5cba375f-f422-4d77-b281-99ac6a70e549"
      },
      "source": [
        "df.dtypes"
      ],
      "execution_count": 6,
      "outputs": [
        {
          "output_type": "execute_result",
          "data": {
            "text/plain": [
              "Unnamed: 0                 int64\n",
              "Date              datetime64[ns]\n",
              "AveragePrice             float64\n",
              "Total Volume             float64\n",
              "4046                     float64\n",
              "4225                     float64\n",
              "4770                     float64\n",
              "Total Bags               float64\n",
              "Small Bags               float64\n",
              "Large Bags               float64\n",
              "XLarge Bags              float64\n",
              "type                      object\n",
              "year                       int64\n",
              "region                    object\n",
              "Data padrão BR            object\n",
              "dtype: object"
            ]
          },
          "metadata": {},
          "execution_count": 6
        }
      ]
    },
    {
      "cell_type": "code",
      "metadata": {
        "id": "iwR1TR5_QdZu"
      },
      "source": [
        "''' \n",
        "Os valores para gramas nos nomes das colunas são aproximados (em onças \n",
        "no original)\n",
        "'''\n",
        "df = df.rename(columns={\"Date\": \"Data\", \"AveragePrice\": \"Preço médio\", \\\n",
        "         \"Total Volume\": \"Volume\", \"4046\": \"até 150 g\", \"4225\": \"até 300 g\", \\\n",
        "         \"4770\": \"até 425 g\", \"Total Bags\": \"Total de sacolas\", \\\n",
        "         \"Small Bags\": \"Sacolas pequenas\", \"Large Bags\": \"Sacolas grandes\", \\\n",
        "         \"XLarge Bags\": \"Sacolas extragrandes\", \"type\": \"Tipo\", \\\n",
        "         \"year\": \"Ano\", \"region\": \"Cidade\"})"
      ],
      "execution_count": 7,
      "outputs": []
    },
    {
      "cell_type": "code",
      "metadata": {
        "id": "KhALgIxHZ2o9",
        "colab": {
          "base_uri": "https://localhost:8080/",
          "height": 323
        },
        "outputId": "4d422c2f-1b43-4c22-cf64-8a511d26179a"
      },
      "source": [
        "df.head(5)"
      ],
      "execution_count": 8,
      "outputs": [
        {
          "output_type": "execute_result",
          "data": {
            "text/html": [
              "<div>\n",
              "<style scoped>\n",
              "    .dataframe tbody tr th:only-of-type {\n",
              "        vertical-align: middle;\n",
              "    }\n",
              "\n",
              "    .dataframe tbody tr th {\n",
              "        vertical-align: top;\n",
              "    }\n",
              "\n",
              "    .dataframe thead th {\n",
              "        text-align: right;\n",
              "    }\n",
              "</style>\n",
              "<table border=\"1\" class=\"dataframe\">\n",
              "  <thead>\n",
              "    <tr style=\"text-align: right;\">\n",
              "      <th></th>\n",
              "      <th>Unnamed: 0</th>\n",
              "      <th>Data</th>\n",
              "      <th>Preço médio</th>\n",
              "      <th>Volume</th>\n",
              "      <th>até 150 g</th>\n",
              "      <th>até 300 g</th>\n",
              "      <th>até 425 g</th>\n",
              "      <th>Total de sacolas</th>\n",
              "      <th>Sacolas pequenas</th>\n",
              "      <th>Sacolas grandes</th>\n",
              "      <th>Sacolas extragrandes</th>\n",
              "      <th>Tipo</th>\n",
              "      <th>Ano</th>\n",
              "      <th>Cidade</th>\n",
              "      <th>Data padrão BR</th>\n",
              "    </tr>\n",
              "  </thead>\n",
              "  <tbody>\n",
              "    <tr>\n",
              "      <th>0</th>\n",
              "      <td>0</td>\n",
              "      <td>2015-12-27</td>\n",
              "      <td>1.33</td>\n",
              "      <td>64,236.62</td>\n",
              "      <td>1,036.74</td>\n",
              "      <td>54,454.85</td>\n",
              "      <td>48.16</td>\n",
              "      <td>8,696.87</td>\n",
              "      <td>8,603.62</td>\n",
              "      <td>93.25</td>\n",
              "      <td>0.00</td>\n",
              "      <td>conventional</td>\n",
              "      <td>2015</td>\n",
              "      <td>Albany</td>\n",
              "      <td>27/12/2015</td>\n",
              "    </tr>\n",
              "    <tr>\n",
              "      <th>1</th>\n",
              "      <td>1</td>\n",
              "      <td>2015-12-20</td>\n",
              "      <td>1.35</td>\n",
              "      <td>54,876.98</td>\n",
              "      <td>674.28</td>\n",
              "      <td>44,638.81</td>\n",
              "      <td>58.33</td>\n",
              "      <td>9,505.56</td>\n",
              "      <td>9,408.07</td>\n",
              "      <td>97.49</td>\n",
              "      <td>0.00</td>\n",
              "      <td>conventional</td>\n",
              "      <td>2015</td>\n",
              "      <td>Albany</td>\n",
              "      <td>20/12/2015</td>\n",
              "    </tr>\n",
              "    <tr>\n",
              "      <th>2</th>\n",
              "      <td>2</td>\n",
              "      <td>2015-12-13</td>\n",
              "      <td>0.93</td>\n",
              "      <td>118,220.22</td>\n",
              "      <td>794.70</td>\n",
              "      <td>109,149.67</td>\n",
              "      <td>130.50</td>\n",
              "      <td>8,145.35</td>\n",
              "      <td>8,042.21</td>\n",
              "      <td>103.14</td>\n",
              "      <td>0.00</td>\n",
              "      <td>conventional</td>\n",
              "      <td>2015</td>\n",
              "      <td>Albany</td>\n",
              "      <td>13/12/2015</td>\n",
              "    </tr>\n",
              "    <tr>\n",
              "      <th>3</th>\n",
              "      <td>3</td>\n",
              "      <td>2015-12-06</td>\n",
              "      <td>1.08</td>\n",
              "      <td>78,992.15</td>\n",
              "      <td>1,132.00</td>\n",
              "      <td>71,976.41</td>\n",
              "      <td>72.58</td>\n",
              "      <td>5,811.16</td>\n",
              "      <td>5,677.40</td>\n",
              "      <td>133.76</td>\n",
              "      <td>0.00</td>\n",
              "      <td>conventional</td>\n",
              "      <td>2015</td>\n",
              "      <td>Albany</td>\n",
              "      <td>06/12/2015</td>\n",
              "    </tr>\n",
              "    <tr>\n",
              "      <th>4</th>\n",
              "      <td>4</td>\n",
              "      <td>2015-11-29</td>\n",
              "      <td>1.28</td>\n",
              "      <td>51,039.60</td>\n",
              "      <td>941.48</td>\n",
              "      <td>43,838.39</td>\n",
              "      <td>75.78</td>\n",
              "      <td>6,183.95</td>\n",
              "      <td>5,986.26</td>\n",
              "      <td>197.69</td>\n",
              "      <td>0.00</td>\n",
              "      <td>conventional</td>\n",
              "      <td>2015</td>\n",
              "      <td>Albany</td>\n",
              "      <td>29/11/2015</td>\n",
              "    </tr>\n",
              "  </tbody>\n",
              "</table>\n",
              "</div>"
            ],
            "text/plain": [
              "   Unnamed: 0       Data          Preço médio  ...   Ano  Cidade  Data padrão BR\n",
              "0           0 2015-12-27                 1.33  ...  2015  Albany      27/12/2015\n",
              "1           1 2015-12-20                 1.35  ...  2015  Albany      20/12/2015\n",
              "2           2 2015-12-13                 0.93  ...  2015  Albany      13/12/2015\n",
              "3           3 2015-12-06                 1.08  ...  2015  Albany      06/12/2015\n",
              "4           4 2015-11-29                 1.28  ...  2015  Albany      29/11/2015\n",
              "\n",
              "[5 rows x 15 columns]"
            ]
          },
          "metadata": {},
          "execution_count": 8
        }
      ]
    },
    {
      "cell_type": "code",
      "metadata": {
        "colab": {
          "base_uri": "https://localhost:8080/"
        },
        "id": "S9cHb1nNNkdB",
        "outputId": "e51d6e9c-078e-4536-86ee-6f0f9a73507b"
      },
      "source": [
        "# Há uma coluna de falso index, que pode ser apagada ...\n",
        "df.columns"
      ],
      "execution_count": 9,
      "outputs": [
        {
          "output_type": "execute_result",
          "data": {
            "text/plain": [
              "Index(['Unnamed: 0', 'Data', 'Preço médio', 'Volume', 'até 150 g', 'até 300 g',\n",
              "       'até 425 g', 'Total de sacolas', 'Sacolas pequenas', 'Sacolas grandes',\n",
              "       'Sacolas extragrandes', 'Tipo', 'Ano', 'Cidade', 'Data padrão BR'],\n",
              "      dtype='object')"
            ]
          },
          "metadata": {},
          "execution_count": 9
        }
      ]
    },
    {
      "cell_type": "code",
      "metadata": {
        "id": "u4MD7RddSI6Q"
      },
      "source": [
        "df.drop(columns='Unnamed: 0', axis=1, inplace=True)"
      ],
      "execution_count": 10,
      "outputs": []
    },
    {
      "cell_type": "code",
      "metadata": {
        "colab": {
          "base_uri": "https://localhost:8080/",
          "height": 314
        },
        "id": "DDg02UB5ShKB",
        "outputId": "7b61bcdc-44f2-4472-db9d-d165fe35a7bd"
      },
      "source": [
        "# Descrição do dataframe\n",
        "df.describe()"
      ],
      "execution_count": 11,
      "outputs": [
        {
          "output_type": "execute_result",
          "data": {
            "text/html": [
              "<div>\n",
              "<style scoped>\n",
              "    .dataframe tbody tr th:only-of-type {\n",
              "        vertical-align: middle;\n",
              "    }\n",
              "\n",
              "    .dataframe tbody tr th {\n",
              "        vertical-align: top;\n",
              "    }\n",
              "\n",
              "    .dataframe thead th {\n",
              "        text-align: right;\n",
              "    }\n",
              "</style>\n",
              "<table border=\"1\" class=\"dataframe\">\n",
              "  <thead>\n",
              "    <tr style=\"text-align: right;\">\n",
              "      <th></th>\n",
              "      <th>Preço médio</th>\n",
              "      <th>Volume</th>\n",
              "      <th>até 150 g</th>\n",
              "      <th>até 300 g</th>\n",
              "      <th>até 425 g</th>\n",
              "      <th>Total de sacolas</th>\n",
              "      <th>Sacolas pequenas</th>\n",
              "      <th>Sacolas grandes</th>\n",
              "      <th>Sacolas extragrandes</th>\n",
              "      <th>Ano</th>\n",
              "    </tr>\n",
              "  </thead>\n",
              "  <tbody>\n",
              "    <tr>\n",
              "      <th>count</th>\n",
              "      <td>18,249.00</td>\n",
              "      <td>18,249.00</td>\n",
              "      <td>18,249.00</td>\n",
              "      <td>18,249.00</td>\n",
              "      <td>18,249.00</td>\n",
              "      <td>18,249.00</td>\n",
              "      <td>18,249.00</td>\n",
              "      <td>18,249.00</td>\n",
              "      <td>18,249.00</td>\n",
              "      <td>18,249.00</td>\n",
              "    </tr>\n",
              "    <tr>\n",
              "      <th>mean</th>\n",
              "      <td>1.41</td>\n",
              "      <td>850,644.01</td>\n",
              "      <td>293,008.42</td>\n",
              "      <td>295,154.57</td>\n",
              "      <td>22,839.74</td>\n",
              "      <td>239,639.20</td>\n",
              "      <td>182,194.69</td>\n",
              "      <td>54,338.09</td>\n",
              "      <td>3,106.43</td>\n",
              "      <td>2,016.15</td>\n",
              "    </tr>\n",
              "    <tr>\n",
              "      <th>std</th>\n",
              "      <td>0.40</td>\n",
              "      <td>3,453,545.36</td>\n",
              "      <td>1,264,989.08</td>\n",
              "      <td>1,204,120.40</td>\n",
              "      <td>107,464.07</td>\n",
              "      <td>986,242.40</td>\n",
              "      <td>746,178.51</td>\n",
              "      <td>243,965.96</td>\n",
              "      <td>17,692.89</td>\n",
              "      <td>0.94</td>\n",
              "    </tr>\n",
              "    <tr>\n",
              "      <th>min</th>\n",
              "      <td>0.44</td>\n",
              "      <td>84.56</td>\n",
              "      <td>0.00</td>\n",
              "      <td>0.00</td>\n",
              "      <td>0.00</td>\n",
              "      <td>0.00</td>\n",
              "      <td>0.00</td>\n",
              "      <td>0.00</td>\n",
              "      <td>0.00</td>\n",
              "      <td>2,015.00</td>\n",
              "    </tr>\n",
              "    <tr>\n",
              "      <th>25%</th>\n",
              "      <td>1.10</td>\n",
              "      <td>10,838.58</td>\n",
              "      <td>854.07</td>\n",
              "      <td>3,008.78</td>\n",
              "      <td>0.00</td>\n",
              "      <td>5,088.64</td>\n",
              "      <td>2,849.42</td>\n",
              "      <td>127.47</td>\n",
              "      <td>0.00</td>\n",
              "      <td>2,015.00</td>\n",
              "    </tr>\n",
              "    <tr>\n",
              "      <th>50%</th>\n",
              "      <td>1.37</td>\n",
              "      <td>107,376.76</td>\n",
              "      <td>8,645.30</td>\n",
              "      <td>29,061.02</td>\n",
              "      <td>184.99</td>\n",
              "      <td>39,743.83</td>\n",
              "      <td>26,362.82</td>\n",
              "      <td>2,647.71</td>\n",
              "      <td>0.00</td>\n",
              "      <td>2,016.00</td>\n",
              "    </tr>\n",
              "    <tr>\n",
              "      <th>75%</th>\n",
              "      <td>1.66</td>\n",
              "      <td>432,962.29</td>\n",
              "      <td>111,020.20</td>\n",
              "      <td>150,206.86</td>\n",
              "      <td>6,243.42</td>\n",
              "      <td>110,783.37</td>\n",
              "      <td>83,337.67</td>\n",
              "      <td>22,029.25</td>\n",
              "      <td>132.50</td>\n",
              "      <td>2,017.00</td>\n",
              "    </tr>\n",
              "    <tr>\n",
              "      <th>max</th>\n",
              "      <td>3.25</td>\n",
              "      <td>62,505,646.52</td>\n",
              "      <td>22,743,616.17</td>\n",
              "      <td>20,470,572.61</td>\n",
              "      <td>2,546,439.11</td>\n",
              "      <td>19,373,134.37</td>\n",
              "      <td>13,384,586.80</td>\n",
              "      <td>5,719,096.61</td>\n",
              "      <td>551,693.65</td>\n",
              "      <td>2,018.00</td>\n",
              "    </tr>\n",
              "  </tbody>\n",
              "</table>\n",
              "</div>"
            ],
            "text/plain": [
              "               Preço médio  ...                  Ano\n",
              "count            18,249.00  ...            18,249.00\n",
              "mean                  1.41  ...             2,016.15\n",
              "std                   0.40  ...                 0.94\n",
              "min                   0.44  ...             2,015.00\n",
              "25%                   1.10  ...             2,015.00\n",
              "50%                   1.37  ...             2,016.00\n",
              "75%                   1.66  ...             2,017.00\n",
              "max                   3.25  ...             2,018.00\n",
              "\n",
              "[8 rows x 10 columns]"
            ]
          },
          "metadata": {},
          "execution_count": 11
        }
      ]
    },
    {
      "cell_type": "code",
      "metadata": {
        "colab": {
          "base_uri": "https://localhost:8080/"
        },
        "id": "iasQkwjOVAEl",
        "outputId": "9d90c35e-f82e-4f98-f0db-ff95d4126b9d"
      },
      "source": [
        "# Verificação de valores nulos ( não existem valores nulos no dataframe )\n",
        "df.isnull().sum()"
      ],
      "execution_count": 12,
      "outputs": [
        {
          "output_type": "execute_result",
          "data": {
            "text/plain": [
              "Data                    0\n",
              "Preço médio             0\n",
              "Volume                  0\n",
              "até 150 g               0\n",
              "até 300 g               0\n",
              "até 425 g               0\n",
              "Total de sacolas        0\n",
              "Sacolas pequenas        0\n",
              "Sacolas grandes         0\n",
              "Sacolas extragrandes    0\n",
              "Tipo                    0\n",
              "Ano                     0\n",
              "Cidade                  0\n",
              "Data padrão BR          0\n",
              "dtype: int64"
            ]
          },
          "metadata": {},
          "execution_count": 12
        }
      ]
    },
    {
      "cell_type": "markdown",
      "metadata": {
        "id": "63bOzSASSW2K"
      },
      "source": [
        "### **Criação de novas colunas, extraindo informação com groupby**"
      ]
    },
    {
      "cell_type": "code",
      "metadata": {
        "id": "C5n8lNfRXIXt"
      },
      "source": [
        "''' A coluna de receita é calculada por meio da qtd. de \n",
        "abacates vendidos X preço médio (aplicamos arredondamento de\n",
        "duas casas decimais)\n",
        "'''\n",
        "df['Receita'] = (df['Volume'].mul(df['Preço médio']))"
      ],
      "execution_count": 13,
      "outputs": []
    },
    {
      "cell_type": "code",
      "metadata": {
        "id": "WwiC6VMjdzPL"
      },
      "source": [
        "'''\n",
        "Podemos criar colunas de porcentagens de tipo do \n",
        "abacate vendido (em relação ao volume total)\n",
        "'''\n",
        "df['Porcentagem 150 g'] = (df['até 150 g'] / df['Volume']) * 100\n",
        "df['Porcentagem 300 g'] = (df['até 300 g'] / df['Volume']) * 100\n",
        "df['Porcentagem 425 g'] = (df['até 425 g'] / df['Volume']) * 100"
      ],
      "execution_count": 14,
      "outputs": []
    },
    {
      "cell_type": "code",
      "metadata": {
        "colab": {
          "base_uri": "https://localhost:8080/",
          "height": 343
        },
        "id": "ugmSOD4-XjOp",
        "outputId": "fceb626e-60b1-4de5-a5f6-2fe20b6b1c04"
      },
      "source": [
        "df.sample(5)"
      ],
      "execution_count": 15,
      "outputs": [
        {
          "output_type": "execute_result",
          "data": {
            "text/html": [
              "<div>\n",
              "<style scoped>\n",
              "    .dataframe tbody tr th:only-of-type {\n",
              "        vertical-align: middle;\n",
              "    }\n",
              "\n",
              "    .dataframe tbody tr th {\n",
              "        vertical-align: top;\n",
              "    }\n",
              "\n",
              "    .dataframe thead th {\n",
              "        text-align: right;\n",
              "    }\n",
              "</style>\n",
              "<table border=\"1\" class=\"dataframe\">\n",
              "  <thead>\n",
              "    <tr style=\"text-align: right;\">\n",
              "      <th></th>\n",
              "      <th>Data</th>\n",
              "      <th>Preço médio</th>\n",
              "      <th>Volume</th>\n",
              "      <th>até 150 g</th>\n",
              "      <th>até 300 g</th>\n",
              "      <th>até 425 g</th>\n",
              "      <th>Total de sacolas</th>\n",
              "      <th>Sacolas pequenas</th>\n",
              "      <th>Sacolas grandes</th>\n",
              "      <th>Sacolas extragrandes</th>\n",
              "      <th>Tipo</th>\n",
              "      <th>Ano</th>\n",
              "      <th>Cidade</th>\n",
              "      <th>Data padrão BR</th>\n",
              "      <th>Receita</th>\n",
              "      <th>Porcentagem 150 g</th>\n",
              "      <th>Porcentagem 300 g</th>\n",
              "      <th>Porcentagem 425 g</th>\n",
              "    </tr>\n",
              "  </thead>\n",
              "  <tbody>\n",
              "    <tr>\n",
              "      <th>1887</th>\n",
              "      <td>2015-09-13</td>\n",
              "      <td>1.00</td>\n",
              "      <td>535,519.29</td>\n",
              "      <td>222,536.88</td>\n",
              "      <td>181,246.81</td>\n",
              "      <td>15,103.06</td>\n",
              "      <td>116,632.54</td>\n",
              "      <td>116,569.24</td>\n",
              "      <td>22.02</td>\n",
              "      <td>41.28</td>\n",
              "      <td>conventional</td>\n",
              "      <td>2015</td>\n",
              "      <td>Portland</td>\n",
              "      <td>13/09/2015</td>\n",
              "      <td>535,519.29</td>\n",
              "      <td>41.56</td>\n",
              "      <td>33.85</td>\n",
              "      <td>2.82</td>\n",
              "    </tr>\n",
              "    <tr>\n",
              "      <th>2183</th>\n",
              "      <td>2015-01-04</td>\n",
              "      <td>0.94</td>\n",
              "      <td>461,607.33</td>\n",
              "      <td>244,152.26</td>\n",
              "      <td>165,299.33</td>\n",
              "      <td>15,302.75</td>\n",
              "      <td>36,852.99</td>\n",
              "      <td>30,884.29</td>\n",
              "      <td>5,595.00</td>\n",
              "      <td>373.70</td>\n",
              "      <td>conventional</td>\n",
              "      <td>2015</td>\n",
              "      <td>SanDiego</td>\n",
              "      <td>04/01/2015</td>\n",
              "      <td>433,910.89</td>\n",
              "      <td>52.89</td>\n",
              "      <td>35.81</td>\n",
              "      <td>3.32</td>\n",
              "    </tr>\n",
              "    <tr>\n",
              "      <th>1824</th>\n",
              "      <td>2015-11-29</td>\n",
              "      <td>1.11</td>\n",
              "      <td>1,099,646.06</td>\n",
              "      <td>460,759.58</td>\n",
              "      <td>364,748.79</td>\n",
              "      <td>10,648.01</td>\n",
              "      <td>263,489.68</td>\n",
              "      <td>248,449.51</td>\n",
              "      <td>14,157.64</td>\n",
              "      <td>882.53</td>\n",
              "      <td>conventional</td>\n",
              "      <td>2015</td>\n",
              "      <td>Plains</td>\n",
              "      <td>29/11/2015</td>\n",
              "      <td>1,220,607.13</td>\n",
              "      <td>41.90</td>\n",
              "      <td>33.17</td>\n",
              "      <td>0.97</td>\n",
              "    </tr>\n",
              "    <tr>\n",
              "      <th>61</th>\n",
              "      <td>2015-10-25</td>\n",
              "      <td>1.09</td>\n",
              "      <td>358,478.08</td>\n",
              "      <td>236,814.29</td>\n",
              "      <td>64,607.97</td>\n",
              "      <td>304.36</td>\n",
              "      <td>56,751.46</td>\n",
              "      <td>31,826.88</td>\n",
              "      <td>24,924.58</td>\n",
              "      <td>0.00</td>\n",
              "      <td>conventional</td>\n",
              "      <td>2015</td>\n",
              "      <td>Atlanta</td>\n",
              "      <td>25/10/2015</td>\n",
              "      <td>390,741.11</td>\n",
              "      <td>66.06</td>\n",
              "      <td>18.02</td>\n",
              "      <td>0.08</td>\n",
              "    </tr>\n",
              "    <tr>\n",
              "      <th>9615</th>\n",
              "      <td>2015-08-02</td>\n",
              "      <td>1.62</td>\n",
              "      <td>15,286.40</td>\n",
              "      <td>198.92</td>\n",
              "      <td>14,035.28</td>\n",
              "      <td>0.00</td>\n",
              "      <td>1,052.20</td>\n",
              "      <td>123.34</td>\n",
              "      <td>928.86</td>\n",
              "      <td>0.00</td>\n",
              "      <td>organic</td>\n",
              "      <td>2015</td>\n",
              "      <td>CincinnatiDayton</td>\n",
              "      <td>02/08/2015</td>\n",
              "      <td>24,763.97</td>\n",
              "      <td>1.30</td>\n",
              "      <td>91.82</td>\n",
              "      <td>0.00</td>\n",
              "    </tr>\n",
              "  </tbody>\n",
              "</table>\n",
              "</div>"
            ],
            "text/plain": [
              "           Data          Preço médio  ...    Porcentagem 300 g    Porcentagem 425 g\n",
              "1887 2015-09-13                 1.00  ...                33.85                 2.82\n",
              "2183 2015-01-04                 0.94  ...                35.81                 3.32\n",
              "1824 2015-11-29                 1.11  ...                33.17                 0.97\n",
              "61   2015-10-25                 1.09  ...                18.02                 0.08\n",
              "9615 2015-08-02                 1.62  ...                91.82                 0.00\n",
              "\n",
              "[5 rows x 18 columns]"
            ]
          },
          "metadata": {},
          "execution_count": 15
        }
      ]
    },
    {
      "cell_type": "code",
      "metadata": {
        "colab": {
          "base_uri": "https://localhost:8080/"
        },
        "id": "cPzfRUXU9ZG5",
        "outputId": "4272b0d2-2817-478c-fa91-5d63ee97db3e"
      },
      "source": [
        "df['Cidade'].unique()"
      ],
      "execution_count": 16,
      "outputs": [
        {
          "output_type": "execute_result",
          "data": {
            "text/plain": [
              "array(['Albany', 'Atlanta', 'BaltimoreWashington', 'Boise', 'Boston',\n",
              "       'BuffaloRochester', 'California', 'Charlotte', 'Chicago',\n",
              "       'CincinnatiDayton', 'Columbus', 'DallasFtWorth', 'Denver',\n",
              "       'Detroit', 'GrandRapids', 'GreatLakes', 'HarrisburgScranton',\n",
              "       'HartfordSpringfield', 'Houston', 'Indianapolis', 'Jacksonville',\n",
              "       'LasVegas', 'LosAngeles', 'Louisville', 'MiamiFtLauderdale',\n",
              "       'Midsouth', 'Nashville', 'NewOrleansMobile', 'NewYork',\n",
              "       'Northeast', 'NorthernNewEngland', 'Orlando', 'Philadelphia',\n",
              "       'PhoenixTucson', 'Pittsburgh', 'Plains', 'Portland',\n",
              "       'RaleighGreensboro', 'RichmondNorfolk', 'Roanoke', 'Sacramento',\n",
              "       'SanDiego', 'SanFrancisco', 'Seattle', 'SouthCarolina',\n",
              "       'SouthCentral', 'Southeast', 'Spokane', 'StLouis', 'Syracuse',\n",
              "       'Tampa', 'TotalUS', 'West', 'WestTexNewMexico'], dtype=object)"
            ]
          },
          "metadata": {},
          "execution_count": 16
        }
      ]
    },
    {
      "cell_type": "code",
      "metadata": {
        "colab": {
          "base_uri": "https://localhost:8080/"
        },
        "id": "OUjgieDs9wAQ",
        "outputId": "2c9b208f-5929-46a1-a9e0-3f874b77b730"
      },
      "source": [
        "# Group by (para todas cidades, por ano, retornando a Receita)\n",
        "df.groupby(['Cidade', 'Ano'])['Receita'].sum()"
      ],
      "execution_count": 17,
      "outputs": [
        {
          "output_type": "execute_result",
          "data": {
            "text/plain": [
              "Cidade            Ano \n",
              "Albany            2015           4,764,513.61\n",
              "                  2016           7,009,219.01\n",
              "                  2017           7,947,716.78\n",
              "                  2018           2,045,274.35\n",
              "Atlanta           2015          24,515,462.18\n",
              "                                 ...         \n",
              "West              2018          91,935,812.48\n",
              "WestTexNewMexico  2015          32,242,475.24\n",
              "                  2016          36,941,988.34\n",
              "                  2017          42,162,256.60\n",
              "                  2018          10,218,699.01\n",
              "Name: Receita, Length: 216, dtype: float64"
            ]
          },
          "metadata": {},
          "execution_count": 17
        }
      ]
    },
    {
      "cell_type": "code",
      "metadata": {
        "colab": {
          "base_uri": "https://localhost:8080/"
        },
        "id": "y-dd6mhyfaFJ",
        "outputId": "ef31d65b-8f8c-4331-9708-b930be941e01"
      },
      "source": [
        "# Poderíamos observar o groupby apenas para uma cidade, por exemplo\n",
        "seattle = df.loc[df['Cidade'] == 'Seattle']\n",
        "seattle.groupby(['Ano'])['Receita'].sum()"
      ],
      "execution_count": 18,
      "outputs": [
        {
          "output_type": "execute_result",
          "data": {
            "text/plain": [
              "Ano\n",
              "2015          33,574,695.94\n",
              "2016          37,881,884.15\n",
              "2017          43,265,376.61\n",
              "2018          10,457,168.62\n",
              "Name: Receita, dtype: float64"
            ]
          },
          "metadata": {},
          "execution_count": 18
        }
      ]
    },
    {
      "cell_type": "code",
      "metadata": {
        "colab": {
          "base_uri": "https://localhost:8080/"
        },
        "id": "rkGOyoX9hWTO",
        "outputId": "3f8d33dc-807a-4af9-861f-e0faa6a3f811"
      },
      "source": [
        "# Qual o preço médio por cidade?\n",
        "(df.groupby(['Cidade'])['Preço médio'].mean())"
      ],
      "execution_count": 19,
      "outputs": [
        {
          "output_type": "execute_result",
          "data": {
            "text/plain": [
              "Cidade\n",
              "Albany                                1.56\n",
              "Atlanta                               1.34\n",
              "BaltimoreWashington                   1.53\n",
              "Boise                                 1.35\n",
              "Boston                                1.53\n",
              "BuffaloRochester                      1.52\n",
              "California                            1.40\n",
              "Charlotte                             1.61\n",
              "Chicago                               1.56\n",
              "CincinnatiDayton                      1.21\n",
              "Columbus                              1.25\n",
              "DallasFtWorth                         1.09\n",
              "Denver                                1.22\n",
              "Detroit                               1.28\n",
              "GrandRapids                           1.50\n",
              "GreatLakes                            1.34\n",
              "HarrisburgScranton                    1.51\n",
              "HartfordSpringfield                   1.82\n",
              "Houston                               1.05\n",
              "Indianapolis                          1.31\n",
              "Jacksonville                          1.51\n",
              "LasVegas                              1.38\n",
              "LosAngeles                            1.22\n",
              "Louisville                            1.29\n",
              "MiamiFtLauderdale                     1.43\n",
              "Midsouth                              1.40\n",
              "Nashville                             1.21\n",
              "NewOrleansMobile                      1.30\n",
              "NewYork                               1.73\n",
              "Northeast                             1.60\n",
              "NorthernNewEngland                    1.48\n",
              "Orlando                               1.51\n",
              "Philadelphia                          1.63\n",
              "PhoenixTucson                         1.22\n",
              "Pittsburgh                            1.36\n",
              "Plains                                1.44\n",
              "Portland                              1.32\n",
              "RaleighGreensboro                     1.56\n",
              "RichmondNorfolk                       1.29\n",
              "Roanoke                               1.25\n",
              "Sacramento                            1.62\n",
              "SanDiego                              1.40\n",
              "SanFrancisco                          1.80\n",
              "Seattle                               1.44\n",
              "SouthCarolina                         1.40\n",
              "SouthCentral                          1.10\n",
              "Southeast                             1.40\n",
              "Spokane                               1.45\n",
              "StLouis                               1.43\n",
              "Syracuse                              1.52\n",
              "Tampa                                 1.41\n",
              "TotalUS                               1.32\n",
              "West                                  1.27\n",
              "WestTexNewMexico                      1.26\n",
              "Name: Preço médio, dtype: float64"
            ]
          },
          "metadata": {},
          "execution_count": 19
        }
      ]
    },
    {
      "cell_type": "code",
      "metadata": {
        "colab": {
          "base_uri": "https://localhost:8080/"
        },
        "id": "7r_4FM0DiCGp",
        "outputId": "dd348acf-c50c-4dcb-8747-b7386f197b93"
      },
      "source": [
        "# Aproveitando a pesquisa anterior, quais os menores preços médios?\n",
        "media_preco = (df.groupby(['Cidade'])['Preço médio'].mean())\n",
        "media_preco.nsmallest(5)"
      ],
      "execution_count": 20,
      "outputs": [
        {
          "output_type": "execute_result",
          "data": {
            "text/plain": [
              "Cidade\n",
              "Houston                            1.05\n",
              "DallasFtWorth                      1.09\n",
              "SouthCentral                       1.10\n",
              "CincinnatiDayton                   1.21\n",
              "Nashville                          1.21\n",
              "Name: Preço médio, dtype: float64"
            ]
          },
          "metadata": {},
          "execution_count": 20
        }
      ]
    },
    {
      "cell_type": "code",
      "metadata": {
        "colab": {
          "base_uri": "https://localhost:8080/"
        },
        "id": "VCQTcyOykD6S",
        "outputId": "27a5bbbf-f5b7-4212-a820-8e0ec1f17aad"
      },
      "source": [
        "# Por outro lado, as cidades com abacates mais caros são...\n",
        "media_preco.nlargest(5)"
      ],
      "execution_count": 21,
      "outputs": [
        {
          "output_type": "execute_result",
          "data": {
            "text/plain": [
              "Cidade\n",
              "HartfordSpringfield                   1.82\n",
              "SanFrancisco                          1.80\n",
              "NewYork                               1.73\n",
              "Philadelphia                          1.63\n",
              "Sacramento                            1.62\n",
              "Name: Preço médio, dtype: float64"
            ]
          },
          "metadata": {},
          "execution_count": 21
        }
      ]
    },
    {
      "cell_type": "markdown",
      "metadata": {
        "id": "nGMq5f_ckt-7"
      },
      "source": [
        "### **Mais informações com groupby, gráficos e estatísticas**"
      ]
    },
    {
      "cell_type": "code",
      "metadata": {
        "id": "B32axZ10kx8V",
        "colab": {
          "base_uri": "https://localhost:8080/",
          "height": 300
        },
        "outputId": "adbadb5c-bdf1-4866-9aba-5b59ebf75270"
      },
      "source": [
        "# Os menores preços médios (com as respectivas cidades)\n",
        "media_preco.nsmallest(5).plot(title='Menores preços médios', color='orange')\n",
        "# media_preco.nlargest(5).plot()\n",
        "plt.xlabel('Cidades')\n",
        "plt.ylabel('Preço')\n",
        "plt.xticks(rotation='horizontal')\n",
        "plt.legend();"
      ],
      "execution_count": 22,
      "outputs": [
        {
          "output_type": "display_data",
          "data": {
            "image/png": "[encoded data removed]",
            "text/plain": [
              "<Figure size 432x288 with 1 Axes>"
            ]
          },
          "metadata": {
            "needs_background": "light"
          }
        }
      ]
    },
    {
      "cell_type": "code",
      "metadata": {
        "colab": {
          "base_uri": "https://localhost:8080/"
        },
        "id": "_Tv2K74PvsgI",
        "outputId": "337e5bef-9bcb-4d31-dcee-90c5597d8deb"
      },
      "source": [
        "''' \n",
        "A receita, agrupada por ano (os dados de 2018 são\n",
        "incompletos* ou houve uma queda enorme no consumo...)\n",
        "'''\n",
        "df.groupby(df['Data'].dt.year)['Receita'].sum()"
      ],
      "execution_count": 23,
      "outputs": [
        {
          "output_type": "execute_result",
          "data": {
            "text/plain": [
              "Data\n",
              "2015       4,488,448,412.51\n",
              "2016       4,997,589,967.36\n",
              "2017       5,965,749,982.36\n",
              "2018       1,482,342,604.63\n",
              "Name: Receita, dtype: float64"
            ]
          },
          "metadata": {},
          "execution_count": 23
        }
      ]
    },
    {
      "cell_type": "code",
      "metadata": {
        "colab": {
          "base_uri": "https://localhost:8080/"
        },
        "id": "e1GVB9hJ9fNY",
        "outputId": "f412a1b3-e65a-4385-a72a-89c928bb64c6"
      },
      "source": [
        "''' \n",
        "*vamos verificar os dados de 2018\n",
        "R: Descobrimos que os dados do ano de 2018 só contemplam\n",
        "os três primeiros meses ...\n",
        "'''  \n",
        "dados2018 = df.loc[df['Data'].dt.year == 2018]\n",
        "dados2018.groupby(df['Data'].dt.month)['Receita'].sum()"
      ],
      "execution_count": 24,
      "outputs": [
        {
          "output_type": "execute_result",
          "data": {
            "text/plain": [
              "Data\n",
              "1         492,061,944.34\n",
              "2         497,770,421.87\n",
              "3         492,510,238.42\n",
              "Name: Receita, dtype: float64"
            ]
          },
          "metadata": {},
          "execution_count": 24
        }
      ]
    },
    {
      "cell_type": "code",
      "metadata": {
        "colab": {
          "base_uri": "https://localhost:8080/",
          "height": 299
        },
        "id": "GxOzaWrDwXqH",
        "outputId": "c4bdd1f9-66ae-4537-af8a-a597bd0ca59d"
      },
      "source": [
        "# A receita, agrupada por ano\n",
        "df.groupby(df['Data'].dt.year)['Receita'].sum().plot.bar(title=\\\n",
        "                               'Receita auferida por ano', color='darkgreen')\n",
        "plt.xlabel('Data')\n",
        "plt.ylabel('Receita (em milhões)')\n",
        "plt.xticks(rotation='horizontal');\n"
      ],
      "execution_count": 25,
      "outputs": [
        {
          "output_type": "display_data",
          "data": {
            "image/png": "[encoded data removed]",
            "text/plain": [
              "<Figure size 432x288 with 1 Axes>"
            ]
          },
          "metadata": {
            "needs_background": "light"
          }
        }
      ]
    },
    {
      "cell_type": "code",
      "metadata": {
        "colab": {
          "base_uri": "https://localhost:8080/"
        },
        "id": "HpWrKyrR-nUh",
        "outputId": "40b01339-a2f6-4057-bef3-6ab82815d64e"
      },
      "source": [
        "# Vamos verificar apenas os três primeiros meses de cada ano\n",
        "meses3 = df.loc[df['Data'].dt.month.isin([1, 2, 3])]\n",
        "meses3.groupby(meses3['Data'].dt.year)['Receita'].sum()"
      ],
      "execution_count": 26,
      "outputs": [
        {
          "output_type": "execute_result",
          "data": {
            "text/plain": [
              "Data\n",
              "2015       1,107,293,513.74\n",
              "2016       1,185,910,497.41\n",
              "2017       1,374,615,424.50\n",
              "2018       1,482,342,604.63\n",
              "Name: Receita, dtype: float64"
            ]
          },
          "metadata": {},
          "execution_count": 26
        }
      ]
    },
    {
      "cell_type": "code",
      "metadata": {
        "colab": {
          "base_uri": "https://localhost:8080/",
          "height": 299
        },
        "id": "j_ippqibAFGz",
        "outputId": "e0b90e23-1ad0-4865-bb5c-e55235ed8977"
      },
      "source": [
        "# Ou seja, verificamos que a receita de 2018 não é discrepante\n",
        "meses3.groupby(meses3['Data'].dt.year)['Receita'].sum().plot.barh(title=\\\n",
        "    'Receita anual (considerando o primeiro trimestre)', color='darkgreen')\n",
        "plt.xlabel('Receita')\n",
        "plt.ylabel('Ano');"
      ],
      "execution_count": 27,
      "outputs": [
        {
          "output_type": "display_data",
          "data": {
            "image/png": "[encoded data removed]",
            "text/plain": [
              "<Figure size 432x288 with 1 Axes>"
            ]
          },
          "metadata": {
            "needs_background": "light"
          }
        }
      ]
    },
    {
      "cell_type": "code",
      "metadata": {
        "colab": {
          "base_uri": "https://localhost:8080/"
        },
        "id": "Hd6ZKu7s7IHg",
        "outputId": "631ba921-d82c-4736-9943-eec273ce296d"
      },
      "source": [
        "'''\n",
        "A receita de alguma cidade específica, separada por mês \n",
        "(considerando todos os anos)\n",
        "'''\n",
        "city = df.loc[df['Cidade'] == 'Portland']\n",
        "city.groupby(city['Data'].dt.month)['Receita'].sum()"
      ],
      "execution_count": 28,
      "outputs": [
        {
          "output_type": "execute_result",
          "data": {
            "text/plain": [
              "Data\n",
              "1           12,031,005.47\n",
              "2           10,929,358.08\n",
              "3           11,527,614.11\n",
              "4            9,043,827.87\n",
              "5           10,059,661.43\n",
              "6            8,652,319.29\n",
              "7           10,003,533.57\n",
              "8            9,086,821.08\n",
              "9            7,658,061.17\n",
              "10           9,110,446.16\n",
              "11           7,356,463.80\n",
              "12           7,405,462.74\n",
              "Name: Receita, dtype: float64"
            ]
          },
          "metadata": {},
          "execution_count": 28
        }
      ]
    },
    {
      "cell_type": "code",
      "metadata": {
        "colab": {
          "base_uri": "https://localhost:8080/",
          "height": 300
        },
        "id": "NCQJ4fKY7vEG",
        "outputId": "e2b2ea4c-1323-43ef-ae6b-9838dfc279ad"
      },
      "source": [
        "city.groupby(city['Data'].dt.month)['Receita'].sum().plot(title=\\\n",
        "                                    'Receita da cidade de Portland (por mês)')\n",
        "plt.xlabel('Mês')\n",
        "plt.ylabel('Receita');"
      ],
      "execution_count": 29,
      "outputs": [
        {
          "output_type": "display_data",
          "data": {
            "image/png": "[encoded data removed]",
            "text/plain": [
              "<Figure size 432x288 with 1 Axes>"
            ]
          },
          "metadata": {
            "needs_background": "light"
          }
        }
      ]
    },
    {
      "cell_type": "code",
      "metadata": {
        "colab": {
          "base_uri": "https://localhost:8080/"
        },
        "id": "qqKPbi7M8lWL",
        "outputId": "d88613f1-1a7a-4fc5-9ea7-b89bb9b00725"
      },
      "source": [
        "'''\n",
        "A receita da cidade específica poderia ser separada\n",
        "por mês, considerando apenas algum ano especificado\n",
        "'''\n",
        "city = df.loc[(df['Cidade'] == 'LosAngeles') & (df['Data'].dt.year == 2016)]\n",
        "city.groupby(city['Data'].dt.month)['Receita'].sum()"
      ],
      "execution_count": 30,
      "outputs": [
        {
          "output_type": "execute_result",
          "data": {
            "text/plain": [
              "Data\n",
              "1           12,310,473.61\n",
              "2           10,533,586.13\n",
              "3           10,230,697.64\n",
              "4           10,067,161.58\n",
              "5           12,918,979.20\n",
              "6           11,711,831.98\n",
              "7           16,101,335.68\n",
              "8           12,390,101.76\n",
              "9           12,043,997.08\n",
              "10          14,596,021.90\n",
              "11          10,115,398.47\n",
              "12           8,879,194.03\n",
              "Name: Receita, dtype: float64"
            ]
          },
          "metadata": {},
          "execution_count": 30
        }
      ]
    },
    {
      "cell_type": "code",
      "metadata": {
        "colab": {
          "base_uri": "https://localhost:8080/"
        },
        "id": "_2vZyMvx-4hn",
        "outputId": "67b596f7-d2b9-4af7-d6db-a226ac16e0bb"
      },
      "source": [
        "# Vamos verificar quais as maiores receitas, consideradas as cidades (ou regiões)\n",
        "(df.groupby('Cidade')['Receita'].sum()).nlargest(10)"
      ],
      "execution_count": 31,
      "outputs": [
        {
          "output_type": "execute_result",
          "data": {
            "text/plain": [
              "Cidade\n",
              "TotalUS            6,387,593,101.34\n",
              "California         1,121,414,026.51\n",
              "West               1,066,833,656.04\n",
              "Northeast            960,007,873.70\n",
              "SouthCentral         874,059,289.26\n",
              "Southeast            703,630,581.04\n",
              "GreatLakes           688,661,844.27\n",
              "Midsouth             615,723,838.99\n",
              "LosAngeles           484,227,610.41\n",
              "Plains               360,036,649.82\n",
              "Name: Receita, dtype: float64"
            ]
          },
          "metadata": {},
          "execution_count": 31
        }
      ]
    },
    {
      "cell_type": "code",
      "metadata": {
        "colab": {
          "base_uri": "https://localhost:8080/",
          "height": 372
        },
        "id": "jJkIM0MJCGz3",
        "outputId": "edb27b36-ec01-439d-c9c0-c53c2dae7e29"
      },
      "source": [
        "(df.groupby('Cidade')['Receita'].sum()).nlargest(10).plot.bar(title=\\\n",
        "       'Dez maiores receitas, por cidade ou região', color='darkgreen')"
      ],
      "execution_count": 32,
      "outputs": [
        {
          "output_type": "execute_result",
          "data": {
            "text/plain": [
              "<matplotlib.axes._subplots.AxesSubplot at 0x7f9c9b3dec10>"
            ]
          },
          "metadata": {},
          "execution_count": 32
        },
        {
          "output_type": "display_data",
          "data": {
            "image/png": "[encoded data removed]",
            "text/plain": [
              "<Figure size 432x288 with 1 Axes>"
            ]
          },
          "metadata": {
            "needs_background": "light"
          }
        }
      ]
    },
    {
      "cell_type": "code",
      "metadata": {
        "colab": {
          "base_uri": "https://localhost:8080/"
        },
        "id": "e56q9hcPDbqV",
        "outputId": "16eb5447-f882-45fd-d004-d1b17e059250"
      },
      "source": [
        "df['Cidade'].unique()"
      ],
      "execution_count": 33,
      "outputs": [
        {
          "output_type": "execute_result",
          "data": {
            "text/plain": [
              "array(['Albany', 'Atlanta', 'BaltimoreWashington', 'Boise', 'Boston',\n",
              "       'BuffaloRochester', 'California', 'Charlotte', 'Chicago',\n",
              "       'CincinnatiDayton', 'Columbus', 'DallasFtWorth', 'Denver',\n",
              "       'Detroit', 'GrandRapids', 'GreatLakes', 'HarrisburgScranton',\n",
              "       'HartfordSpringfield', 'Houston', 'Indianapolis', 'Jacksonville',\n",
              "       'LasVegas', 'LosAngeles', 'Louisville', 'MiamiFtLauderdale',\n",
              "       'Midsouth', 'Nashville', 'NewOrleansMobile', 'NewYork',\n",
              "       'Northeast', 'NorthernNewEngland', 'Orlando', 'Philadelphia',\n",
              "       'PhoenixTucson', 'Pittsburgh', 'Plains', 'Portland',\n",
              "       'RaleighGreensboro', 'RichmondNorfolk', 'Roanoke', 'Sacramento',\n",
              "       'SanDiego', 'SanFrancisco', 'Seattle', 'SouthCarolina',\n",
              "       'SouthCentral', 'Southeast', 'Spokane', 'StLouis', 'Syracuse',\n",
              "       'Tampa', 'TotalUS', 'West', 'WestTexNewMexico'], dtype=object)"
            ]
          },
          "metadata": {},
          "execution_count": 33
        }
      ]
    },
    {
      "cell_type": "code",
      "metadata": {
        "colab": {
          "base_uri": "https://localhost:8080/"
        },
        "id": "Nl5lSV00Cwaj",
        "outputId": "53c23210-deb0-4ccb-c28b-404eb24cd538"
      },
      "source": [
        "''' \n",
        "Voltamos a verificar as maiores receitas, excluindo as regiões\n",
        "(são verificadas apenas as cidades)\n",
        "'''\n",
        "apenas_cidades = df.loc[~df['Cidade'].isin(['GrandRapids', 'GreatLakes',\\\n",
        "                'Midsouth', 'Northeast', 'NorthernNewEngland', 'Plains', \\\n",
        "                'SouthCentral', 'Southeast', 'TotalUS', 'West'])]\n",
        "(apenas_cidades.groupby('Cidade')['Receita'].sum()).nlargest(10)"
      ],
      "execution_count": 34,
      "outputs": [
        {
          "output_type": "execute_result",
          "data": {
            "text/plain": [
              "Cidade\n",
              "California                1,121,414,026.51\n",
              "LosAngeles                  484,227,610.41\n",
              "NewYork                     335,195,542.05\n",
              "SanFrancisco                185,834,084.04\n",
              "BaltimoreWashington         179,908,448.06\n",
              "Chicago                     179,110,584.76\n",
              "DallasFtWorth               175,609,297.87\n",
              "Houston                     165,571,340.23\n",
              "Denver                      145,982,845.53\n",
              "PhoenixTucson               138,451,462.02\n",
              "Name: Receita, dtype: float64"
            ]
          },
          "metadata": {},
          "execution_count": 34
        }
      ]
    },
    {
      "cell_type": "code",
      "metadata": {
        "colab": {
          "base_uri": "https://localhost:8080/",
          "height": 395
        },
        "id": "OtXieow2GiHu",
        "outputId": "fd42b147-e119-4153-8705-677d33f8ec67"
      },
      "source": [
        "# Dez maiores receitas por cidade\n",
        "(apenas_cidades.groupby('Cidade')['Receita'].sum()).nlargest(10).plot.bar(title=\\\n",
        "                      '10 maiores receitas por cidade', color='darkblue')\n",
        "plt.xlabel('Cidades')\n",
        "plt.ylabel('Receita')\n",
        "plt.xticks(rotation=75);"
      ],
      "execution_count": 35,
      "outputs": [
        {
          "output_type": "display_data",
          "data": {
            "image/png": "[encoded data removed]",
            "text/plain": [
              "<Figure size 432x288 with 1 Axes>"
            ]
          },
          "metadata": {
            "needs_background": "light"
          }
        }
      ]
    },
    {
      "cell_type": "code",
      "metadata": {
        "colab": {
          "base_uri": "https://localhost:8080/",
          "height": 1000
        },
        "id": "C71NUpd5xihm",
        "outputId": "eb84fb49-891f-4373-b66a-99a885edca33"
      },
      "source": [
        "# Totais por tipo de sacola: pequena, grande, extragrande\n",
        "df.groupby(df['Cidade'])[['Sacolas pequenas', 'Sacolas grandes',\\\n",
        "                         'Sacolas extragrandes']].sum()"
      ],
      "execution_count": 36,
      "outputs": [
        {
          "output_type": "execute_result",
          "data": {
            "text/html": [
              "<div>\n",
              "<style scoped>\n",
              "    .dataframe tbody tr th:only-of-type {\n",
              "        vertical-align: middle;\n",
              "    }\n",
              "\n",
              "    .dataframe tbody tr th {\n",
              "        vertical-align: top;\n",
              "    }\n",
              "\n",
              "    .dataframe thead th {\n",
              "        text-align: right;\n",
              "    }\n",
              "</style>\n",
              "<table border=\"1\" class=\"dataframe\">\n",
              "  <thead>\n",
              "    <tr style=\"text-align: right;\">\n",
              "      <th></th>\n",
              "      <th>Sacolas pequenas</th>\n",
              "      <th>Sacolas grandes</th>\n",
              "      <th>Sacolas extragrandes</th>\n",
              "    </tr>\n",
              "    <tr>\n",
              "      <th>Cidade</th>\n",
              "      <th></th>\n",
              "      <th></th>\n",
              "      <th></th>\n",
              "    </tr>\n",
              "  </thead>\n",
              "  <tbody>\n",
              "    <tr>\n",
              "      <th>Albany</th>\n",
              "      <td>2,246,944.73</td>\n",
              "      <td>389,881.72</td>\n",
              "      <td>43,429.16</td>\n",
              "    </tr>\n",
              "    <tr>\n",
              "      <th>Atlanta</th>\n",
              "      <td>17,442,735.84</td>\n",
              "      <td>10,839,675.06</td>\n",
              "      <td>278,101.68</td>\n",
              "    </tr>\n",
              "    <tr>\n",
              "      <th>BaltimoreWashington</th>\n",
              "      <td>34,117,612.92</td>\n",
              "      <td>981,546.79</td>\n",
              "      <td>206,985.36</td>\n",
              "    </tr>\n",
              "    <tr>\n",
              "      <th>Boise</th>\n",
              "      <td>4,677,932.59</td>\n",
              "      <td>711,028.32</td>\n",
              "      <td>10,449.34</td>\n",
              "    </tr>\n",
              "    <tr>\n",
              "      <th>Boston</th>\n",
              "      <td>19,910,427.54</td>\n",
              "      <td>1,500,167.27</td>\n",
              "      <td>84,879.99</td>\n",
              "    </tr>\n",
              "    <tr>\n",
              "      <th>BuffaloRochester</th>\n",
              "      <td>10,268,431.79</td>\n",
              "      <td>1,260,418.90</td>\n",
              "      <td>81,901.94</td>\n",
              "    </tr>\n",
              "    <tr>\n",
              "      <th>California</th>\n",
              "      <td>229,097,679.89</td>\n",
              "      <td>12,311,935.91</td>\n",
              "      <td>5,272,577.91</td>\n",
              "    </tr>\n",
              "    <tr>\n",
              "      <th>Charlotte</th>\n",
              "      <td>10,643,851.57</td>\n",
              "      <td>984,487.25</td>\n",
              "      <td>69,603.59</td>\n",
              "    </tr>\n",
              "    <tr>\n",
              "      <th>Chicago</th>\n",
              "      <td>14,794,653.07</td>\n",
              "      <td>1,691,874.84</td>\n",
              "      <td>378,872.71</td>\n",
              "    </tr>\n",
              "    <tr>\n",
              "      <th>CincinnatiDayton</th>\n",
              "      <td>5,661,893.92</td>\n",
              "      <td>14,972,194.79</td>\n",
              "      <td>263,830.73</td>\n",
              "    </tr>\n",
              "    <tr>\n",
              "      <th>Columbus</th>\n",
              "      <td>8,070,792.71</td>\n",
              "      <td>1,724,880.00</td>\n",
              "      <td>220,715.52</td>\n",
              "    </tr>\n",
              "    <tr>\n",
              "      <th>DallasFtWorth</th>\n",
              "      <td>40,821,736.08</td>\n",
              "      <td>5,215,721.39</td>\n",
              "      <td>432,293.08</td>\n",
              "    </tr>\n",
              "    <tr>\n",
              "      <th>Denver</th>\n",
              "      <td>18,763,605.17</td>\n",
              "      <td>40,140,921.55</td>\n",
              "      <td>52,481.28</td>\n",
              "    </tr>\n",
              "    <tr>\n",
              "      <th>Detroit</th>\n",
              "      <td>19,939,071.39</td>\n",
              "      <td>2,671,968.52</td>\n",
              "      <td>1,649,024.44</td>\n",
              "    </tr>\n",
              "    <tr>\n",
              "      <th>GrandRapids</th>\n",
              "      <td>7,533,477.06</td>\n",
              "      <td>796,800.52</td>\n",
              "      <td>838,815.37</td>\n",
              "    </tr>\n",
              "    <tr>\n",
              "      <th>GreatLakes</th>\n",
              "      <td>123,287,484.37</td>\n",
              "      <td>48,895,641.45</td>\n",
              "      <td>6,392,523.96</td>\n",
              "    </tr>\n",
              "    <tr>\n",
              "      <th>HarrisburgScranton</th>\n",
              "      <td>12,772,872.22</td>\n",
              "      <td>601,765.75</td>\n",
              "      <td>154,618.16</td>\n",
              "    </tr>\n",
              "    <tr>\n",
              "      <th>HartfordSpringfield</th>\n",
              "      <td>10,778,560.68</td>\n",
              "      <td>476,848.23</td>\n",
              "      <td>77,601.72</td>\n",
              "    </tr>\n",
              "    <tr>\n",
              "      <th>Houston</th>\n",
              "      <td>32,525,167.34</td>\n",
              "      <td>17,363,763.93</td>\n",
              "      <td>326,132.75</td>\n",
              "    </tr>\n",
              "    <tr>\n",
              "      <th>Indianapolis</th>\n",
              "      <td>6,611,063.62</td>\n",
              "      <td>5,086,256.44</td>\n",
              "      <td>283,489.96</td>\n",
              "    </tr>\n",
              "    <tr>\n",
              "      <th>Jacksonville</th>\n",
              "      <td>4,339,786.57</td>\n",
              "      <td>5,273,004.15</td>\n",
              "      <td>105,335.77</td>\n",
              "    </tr>\n",
              "    <tr>\n",
              "      <th>LasVegas</th>\n",
              "      <td>8,977,623.36</td>\n",
              "      <td>9,059,314.73</td>\n",
              "      <td>16,054.32</td>\n",
              "    </tr>\n",
              "    <tr>\n",
              "      <th>LosAngeles</th>\n",
              "      <td>155,726,104.01</td>\n",
              "      <td>8,463,145.47</td>\n",
              "      <td>4,075,279.95</td>\n",
              "    </tr>\n",
              "    <tr>\n",
              "      <th>Louisville</th>\n",
              "      <td>2,814,241.20</td>\n",
              "      <td>3,713,124.60</td>\n",
              "      <td>107,922.98</td>\n",
              "    </tr>\n",
              "    <tr>\n",
              "      <th>MiamiFtLauderdale</th>\n",
              "      <td>11,219,973.67</td>\n",
              "      <td>11,990,810.10</td>\n",
              "      <td>305,657.99</td>\n",
              "    </tr>\n",
              "    <tr>\n",
              "      <th>Midsouth</th>\n",
              "      <td>134,364,442.98</td>\n",
              "      <td>20,770,865.71</td>\n",
              "      <td>1,378,317.13</td>\n",
              "    </tr>\n",
              "    <tr>\n",
              "      <th>Nashville</th>\n",
              "      <td>10,042,786.84</td>\n",
              "      <td>2,812,894.41</td>\n",
              "      <td>111,486.16</td>\n",
              "    </tr>\n",
              "    <tr>\n",
              "      <th>NewOrleansMobile</th>\n",
              "      <td>11,859,554.58</td>\n",
              "      <td>1,896,699.23</td>\n",
              "      <td>512,688.70</td>\n",
              "    </tr>\n",
              "    <tr>\n",
              "      <th>NewYork</th>\n",
              "      <td>58,401,682.50</td>\n",
              "      <td>9,232,997.58</td>\n",
              "      <td>359,477.68</td>\n",
              "    </tr>\n",
              "    <tr>\n",
              "      <th>Northeast</th>\n",
              "      <td>173,622,975.12</td>\n",
              "      <td>22,056,053.92</td>\n",
              "      <td>1,309,367.56</td>\n",
              "    </tr>\n",
              "    <tr>\n",
              "      <th>NorthernNewEngland</th>\n",
              "      <td>11,276,970.50</td>\n",
              "      <td>2,517,405.62</td>\n",
              "      <td>110,650.28</td>\n",
              "    </tr>\n",
              "    <tr>\n",
              "      <th>Orlando</th>\n",
              "      <td>8,927,878.80</td>\n",
              "      <td>7,690,513.85</td>\n",
              "      <td>243,247.03</td>\n",
              "    </tr>\n",
              "    <tr>\n",
              "      <th>Philadelphia</th>\n",
              "      <td>21,417,023.89</td>\n",
              "      <td>2,352,055.64</td>\n",
              "      <td>106,151.72</td>\n",
              "    </tr>\n",
              "    <tr>\n",
              "      <th>PhoenixTucson</th>\n",
              "      <td>22,272,628.31</td>\n",
              "      <td>16,480,700.61</td>\n",
              "      <td>154,908.38</td>\n",
              "    </tr>\n",
              "    <tr>\n",
              "      <th>Pittsburgh</th>\n",
              "      <td>5,408,180.14</td>\n",
              "      <td>1,779,697.27</td>\n",
              "      <td>57,585.02</td>\n",
              "    </tr>\n",
              "    <tr>\n",
              "      <th>Plains</th>\n",
              "      <td>68,760,623.94</td>\n",
              "      <td>7,973,643.72</td>\n",
              "      <td>1,112,937.29</td>\n",
              "    </tr>\n",
              "    <tr>\n",
              "      <th>Portland</th>\n",
              "      <td>41,508,621.22</td>\n",
              "      <td>7,917,725.16</td>\n",
              "      <td>78,012.09</td>\n",
              "    </tr>\n",
              "    <tr>\n",
              "      <th>RaleighGreensboro</th>\n",
              "      <td>15,040,483.31</td>\n",
              "      <td>541,146.08</td>\n",
              "      <td>95,048.10</td>\n",
              "    </tr>\n",
              "    <tr>\n",
              "      <th>RichmondNorfolk</th>\n",
              "      <td>11,656,503.01</td>\n",
              "      <td>727,940.92</td>\n",
              "      <td>123,783.85</td>\n",
              "    </tr>\n",
              "    <tr>\n",
              "      <th>Roanoke</th>\n",
              "      <td>8,456,339.22</td>\n",
              "      <td>1,055,164.13</td>\n",
              "      <td>79,483.35</td>\n",
              "    </tr>\n",
              "    <tr>\n",
              "      <th>Sacramento</th>\n",
              "      <td>8,696,840.97</td>\n",
              "      <td>76,715.04</td>\n",
              "      <td>208,711.11</td>\n",
              "    </tr>\n",
              "    <tr>\n",
              "      <th>SanDiego</th>\n",
              "      <td>20,275,789.81</td>\n",
              "      <td>2,921,823.74</td>\n",
              "      <td>145,054.97</td>\n",
              "    </tr>\n",
              "    <tr>\n",
              "      <th>SanFrancisco</th>\n",
              "      <td>14,502,351.14</td>\n",
              "      <td>176,939.24</td>\n",
              "      <td>211,634.59</td>\n",
              "    </tr>\n",
              "    <tr>\n",
              "      <th>Seattle</th>\n",
              "      <td>42,447,140.63</td>\n",
              "      <td>8,175,947.66</td>\n",
              "      <td>68,310.44</td>\n",
              "    </tr>\n",
              "    <tr>\n",
              "      <th>SouthCarolina</th>\n",
              "      <td>13,413,347.16</td>\n",
              "      <td>4,513,255.99</td>\n",
              "      <td>226,570.63</td>\n",
              "    </tr>\n",
              "    <tr>\n",
              "      <th>SouthCentral</th>\n",
              "      <td>184,815,483.82</td>\n",
              "      <td>45,936,839.39</td>\n",
              "      <td>2,640,111.14</td>\n",
              "    </tr>\n",
              "    <tr>\n",
              "      <th>Southeast</th>\n",
              "      <td>106,903,274.77</td>\n",
              "      <td>72,107,608.03</td>\n",
              "      <td>2,516,762.93</td>\n",
              "    </tr>\n",
              "    <tr>\n",
              "      <th>Spokane</th>\n",
              "      <td>5,368,311.52</td>\n",
              "      <td>878,881.63</td>\n",
              "      <td>7,182.72</td>\n",
              "    </tr>\n",
              "    <tr>\n",
              "      <th>StLouis</th>\n",
              "      <td>11,931,855.92</td>\n",
              "      <td>2,579,377.16</td>\n",
              "      <td>224,797.89</td>\n",
              "    </tr>\n",
              "    <tr>\n",
              "      <th>Syracuse</th>\n",
              "      <td>3,645,651.41</td>\n",
              "      <td>505,015.10</td>\n",
              "      <td>41,761.94</td>\n",
              "    </tr>\n",
              "    <tr>\n",
              "      <th>Tampa</th>\n",
              "      <td>10,608,074.34</td>\n",
              "      <td>8,653,437.84</td>\n",
              "      <td>235,178.73</td>\n",
              "    </tr>\n",
              "    <tr>\n",
              "      <th>TotalUS</th>\n",
              "      <td>1,243,561,252.68</td>\n",
              "      <td>373,584,293.73</td>\n",
              "      <td>21,455,230.54</td>\n",
              "    </tr>\n",
              "    <tr>\n",
              "      <th>West</th>\n",
              "      <td>222,709,289.38</td>\n",
              "      <td>143,531,707.28</td>\n",
              "      <td>832,634.65</td>\n",
              "    </tr>\n",
              "    <tr>\n",
              "      <th>WestTexNewMexico</th>\n",
              "      <td>19,931,756.29</td>\n",
              "      <td>15,051,247.19</td>\n",
              "      <td>313,511.05</td>\n",
              "    </tr>\n",
              "  </tbody>\n",
              "</table>\n",
              "</div>"
            ],
            "text/plain": [
              "                        Sacolas pequenas  ...  Sacolas extragrandes\n",
              "Cidade                                    ...                      \n",
              "Albany                      2,246,944.73  ...             43,429.16\n",
              "Atlanta                    17,442,735.84  ...            278,101.68\n",
              "BaltimoreWashington        34,117,612.92  ...            206,985.36\n",
              "Boise                       4,677,932.59  ...             10,449.34\n",
              "Boston                     19,910,427.54  ...             84,879.99\n",
              "BuffaloRochester           10,268,431.79  ...             81,901.94\n",
              "California                229,097,679.89  ...          5,272,577.91\n",
              "Charlotte                  10,643,851.57  ...             69,603.59\n",
              "Chicago                    14,794,653.07  ...            378,872.71\n",
              "CincinnatiDayton            5,661,893.92  ...            263,830.73\n",
              "Columbus                    8,070,792.71  ...            220,715.52\n",
              "DallasFtWorth              40,821,736.08  ...            432,293.08\n",
              "Denver                     18,763,605.17  ...             52,481.28\n",
              "Detroit                    19,939,071.39  ...          1,649,024.44\n",
              "GrandRapids                 7,533,477.06  ...            838,815.37\n",
              "GreatLakes                123,287,484.37  ...          6,392,523.96\n",
              "HarrisburgScranton         12,772,872.22  ...            154,618.16\n",
              "HartfordSpringfield        10,778,560.68  ...             77,601.72\n",
              "Houston                    32,525,167.34  ...            326,132.75\n",
              "Indianapolis                6,611,063.62  ...            283,489.96\n",
              "Jacksonville                4,339,786.57  ...            105,335.77\n",
              "LasVegas                    8,977,623.36  ...             16,054.32\n",
              "LosAngeles                155,726,104.01  ...          4,075,279.95\n",
              "Louisville                  2,814,241.20  ...            107,922.98\n",
              "MiamiFtLauderdale          11,219,973.67  ...            305,657.99\n",
              "Midsouth                  134,364,442.98  ...          1,378,317.13\n",
              "Nashville                  10,042,786.84  ...            111,486.16\n",
              "NewOrleansMobile           11,859,554.58  ...            512,688.70\n",
              "NewYork                    58,401,682.50  ...            359,477.68\n",
              "Northeast                 173,622,975.12  ...          1,309,367.56\n",
              "NorthernNewEngland         11,276,970.50  ...            110,650.28\n",
              "Orlando                     8,927,878.80  ...            243,247.03\n",
              "Philadelphia               21,417,023.89  ...            106,151.72\n",
              "PhoenixTucson              22,272,628.31  ...            154,908.38\n",
              "Pittsburgh                  5,408,180.14  ...             57,585.02\n",
              "Plains                     68,760,623.94  ...          1,112,937.29\n",
              "Portland                   41,508,621.22  ...             78,012.09\n",
              "RaleighGreensboro          15,040,483.31  ...             95,048.10\n",
              "RichmondNorfolk            11,656,503.01  ...            123,783.85\n",
              "Roanoke                     8,456,339.22  ...             79,483.35\n",
              "Sacramento                  8,696,840.97  ...            208,711.11\n",
              "SanDiego                   20,275,789.81  ...            145,054.97\n",
              "SanFrancisco               14,502,351.14  ...            211,634.59\n",
              "Seattle                    42,447,140.63  ...             68,310.44\n",
              "SouthCarolina              13,413,347.16  ...            226,570.63\n",
              "SouthCentral              184,815,483.82  ...          2,640,111.14\n",
              "Southeast                 106,903,274.77  ...          2,516,762.93\n",
              "Spokane                     5,368,311.52  ...              7,182.72\n",
              "StLouis                    11,931,855.92  ...            224,797.89\n",
              "Syracuse                    3,645,651.41  ...             41,761.94\n",
              "Tampa                      10,608,074.34  ...            235,178.73\n",
              "TotalUS                 1,243,561,252.68  ...         21,455,230.54\n",
              "West                      222,709,289.38  ...            832,634.65\n",
              "WestTexNewMexico           19,931,756.29  ...            313,511.05\n",
              "\n",
              "[54 rows x 3 columns]"
            ]
          },
          "metadata": {},
          "execution_count": 36
        }
      ]
    },
    {
      "cell_type": "code",
      "metadata": {
        "colab": {
          "base_uri": "https://localhost:8080/",
          "height": 299
        },
        "id": "XX0USa13zmAh",
        "outputId": "ab1e012f-0175-40f9-ca88-2f6ecb9eaa94"
      },
      "source": [
        "# Os totais por sacola de todo o país (TotalUS), disposto em um gráfico\n",
        "totalUS = df.loc[df['Cidade'] == 'TotalUS']\n",
        "totalUS.groupby(totalUS['Cidade'])[['Sacolas pequenas', 'Sacolas grandes',\\\n",
        "                         'Sacolas extragrandes']].sum().plot.bar(title= \\\n",
        "                                                'Total por tipo de sacola')\n",
        "plt.xticks(rotation='horizontal');"
      ],
      "execution_count": 37,
      "outputs": [
        {
          "output_type": "display_data",
          "data": {
            "image/png": "[encoded data removed]",
            "text/plain": [
              "<Figure size 432x288 with 1 Axes>"
            ]
          },
          "metadata": {
            "needs_background": "light"
          }
        }
      ]
    },
    {
      "cell_type": "code",
      "metadata": {
        "colab": {
          "base_uri": "https://localhost:8080/",
          "height": 265
        },
        "id": "1wyB5PI53_Hm",
        "outputId": "d5f5e4a4-51ea-40fc-8465-190f545de0ef"
      },
      "source": [
        "# Estatísticas do preço médio em um boxplot (candle)\n",
        "cidades = df.groupby('Cidade')['Preço médio'].mean()\n",
        "plt.boxplot(cidades);"
      ],
      "execution_count": 38,
      "outputs": [
        {
          "output_type": "display_data",
          "data": {
            "image/png": "[encoded data removed]",
            "text/plain": [
              "<Figure size 432x288 with 1 Axes>"
            ]
          },
          "metadata": {
            "needs_background": "light"
          }
        }
      ]
    },
    {
      "cell_type": "code",
      "metadata": {
        "colab": {
          "base_uri": "https://localhost:8080/",
          "height": 265
        },
        "id": "bUA48eaR5iUK",
        "outputId": "c422cfa5-21e9-48e6-8bf3-1a8ce03a3c6b"
      },
      "source": [
        "# As mesmas estatísticas do preço médio em um histograma\n",
        "plt.hist(cidades, color='orangered');"
      ],
      "execution_count": 39,
      "outputs": [
        {
          "output_type": "display_data",
          "data": {
            "image/png": "[encoded data removed]",
            "text/plain": [
              "<Figure size 432x288 with 1 Axes>"
            ]
          },
          "metadata": {
            "needs_background": "light"
          }
        }
      ]
    },
    {
      "cell_type": "code",
      "metadata": {
        "id": "CW1wXbIW6v41"
      },
      "source": [
        "# Podemos baixar as alterações que fizemos no dataframe\n",
        "df.to_csv('df_avocado_novo.csv', index=False)"
      ],
      "execution_count": 40,
      "outputs": []
    }
  ]
}